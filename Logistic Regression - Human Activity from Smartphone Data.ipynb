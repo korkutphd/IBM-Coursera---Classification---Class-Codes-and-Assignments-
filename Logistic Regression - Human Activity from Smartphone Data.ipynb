{
  "cells": [
    {
      "cell_type": "markdown",
      "metadata": {
        "run_control": {
          "marked": true
        },
        "id": "rPCJW4skridj"
      },
      "source": [
        "\n",
        "\n",
        "\n"
      ]
    },
    {
      "cell_type": "markdown",
      "metadata": {
        "run_control": {
          "marked": true
        },
        "tags": [],
        "id": "smIb7LNtridl"
      },
      "source": [
        "\n",
        "\n",
        "The following information is provided for each record in the dataset:\n",
        "\n",
        "*   Triaxial acceleration from the accelerometer (total acceleration) and the estimated body acceleration\n",
        "*   Triaxial Angular velocity from the gyroscope\n",
        "*   A 561-feature vector with time and frequency domain variables\n",
        "*   The activity label\n",
        "\n",
        "More information about the features are available on the website linked above.\n"
      ]
    },
    {
      "cell_type": "code",
      "execution_count": 30,
      "metadata": {
        "id": "pkWNduImridm"
      },
      "outputs": [],
      "source": [
        "def warn(*args, **kwargs):\n",
        "    pass\n",
        "import warnings\n",
        "warnings.warn = warn"
      ]
    },
    {
      "cell_type": "code",
      "execution_count": 31,
      "metadata": {
        "run_control": {
          "marked": true
        },
        "id": "b1zRK9Slridm"
      },
      "outputs": [],
      "source": [
        "import seaborn as sns, pandas as pd, numpy as np"
      ]
    },
    {
      "cell_type": "markdown",
      "metadata": {
        "run_control": {
          "marked": true
        },
        "id": "m-rSfGK_ridm"
      },
      "source": [
        "1\n",
        "\n",
        "Import the data and do the following:\n",
        "\n",
        "*   Examine the data types--there are many columns, so it might be wise to use value counts.\n",
        "*   Determine if the floating point values need to be scaled.\n",
        "*   Determine the breakdown of each activity.\n",
        "*   Encode the activity label as an integer.\n"
      ]
    },
    {
      "cell_type": "code",
      "execution_count": 32,
      "metadata": {
        "jupyter": {
          "outputs_hidden": false
        },
        "run_control": {
          "marked": true
        },
        "id": "qmeG30mGridn"
      },
      "outputs": [],
      "source": [
        "### BEGIN SOLUTION\n",
        "data = pd.read_csv(\"Human_Activity_Recognition_Using_Smartphones_Data.csv\", sep=',')"
      ]
    },
    {
      "cell_type": "markdown",
      "metadata": {
        "run_control": {
          "marked": true
        },
        "id": "X4GJTOBOridn"
      },
      "source": [
        "The data columns are all floats except for the activity label.\n"
      ]
    },
    {
      "cell_type": "code",
      "execution_count": 33,
      "metadata": {
        "jupyter": {
          "outputs_hidden": false
        },
        "run_control": {
          "marked": true
        },
        "colab": {
          "base_uri": "https://localhost:8080/"
        },
        "id": "zC6C38vUridn",
        "outputId": "e21f35b7-ec35-4c05-d7f2-3997a8df0758"
      },
      "outputs": [
        {
          "output_type": "execute_result",
          "data": {
            "text/plain": [
              "float64    561\n",
              "object       1\n",
              "dtype: int64"
            ]
          },
          "metadata": {},
          "execution_count": 33
        }
      ],
      "source": [
        "data.dtypes.value_counts()"
      ]
    },
    {
      "cell_type": "code",
      "execution_count": 34,
      "metadata": {
        "jupyter": {
          "outputs_hidden": false
        },
        "run_control": {
          "marked": true
        },
        "colab": {
          "base_uri": "https://localhost:8080/"
        },
        "id": "4K6UpA8Rrido",
        "outputId": "90ff8f89-1f39-442d-c1fb-9a8d9d5dc7b4"
      },
      "outputs": [
        {
          "output_type": "execute_result",
          "data": {
            "text/plain": [
              "angle(tBodyGyroJerkMean,gravityMean)    float64\n",
              "angle(X,gravityMean)                    float64\n",
              "angle(Y,gravityMean)                    float64\n",
              "angle(Z,gravityMean)                    float64\n",
              "Activity                                 object\n",
              "dtype: object"
            ]
          },
          "metadata": {},
          "execution_count": 34
        }
      ],
      "source": [
        "data.dtypes.tail()"
      ]
    },
    {
      "cell_type": "markdown",
      "metadata": {
        "run_control": {
          "marked": true
        },
        "id": "knFvkK4Xrido"
      },
      "source": [
        "The data are all scaled from -1 (minimum) to 1.0 (maximum).\n"
      ]
    },
    {
      "cell_type": "code",
      "execution_count": 35,
      "metadata": {
        "jupyter": {
          "outputs_hidden": false
        },
        "run_control": {
          "marked": true
        },
        "colab": {
          "base_uri": "https://localhost:8080/"
        },
        "id": "iElMvpe5rido",
        "outputId": "ab1ac6ab-5bb3-4832-c53b-9f5d71432dc1"
      },
      "outputs": [
        {
          "output_type": "execute_result",
          "data": {
            "text/plain": [
              "-1.0    561\n",
              "dtype: int64"
            ]
          },
          "metadata": {},
          "execution_count": 35
        }
      ],
      "source": [
        "data.iloc[:, :-1].min().value_counts()"
      ]
    },
    {
      "cell_type": "code",
      "execution_count": 36,
      "metadata": {
        "jupyter": {
          "outputs_hidden": false
        },
        "run_control": {
          "marked": true
        },
        "colab": {
          "base_uri": "https://localhost:8080/"
        },
        "id": "xf7sZ_0Qridp",
        "outputId": "466d54e2-1ff1-49a9-d1dc-ef331cdd4f28"
      },
      "outputs": [
        {
          "output_type": "execute_result",
          "data": {
            "text/plain": [
              "1.0    561\n",
              "dtype: int64"
            ]
          },
          "metadata": {},
          "execution_count": 36
        }
      ],
      "source": [
        "data.iloc[:, :-1].max().value_counts()"
      ]
    },
    {
      "cell_type": "markdown",
      "metadata": {
        "id": "XRtz3odlridp"
      },
      "source": [
        "Examine the breakdown of activities; they are relatively balanced.\n"
      ]
    },
    {
      "cell_type": "code",
      "execution_count": 37,
      "metadata": {
        "jupyter": {
          "outputs_hidden": false
        },
        "colab": {
          "base_uri": "https://localhost:8080/"
        },
        "id": "A5uX0Gmhridp",
        "outputId": "28c0543e-6a1e-4889-e2e1-f168aa4f826d"
      },
      "outputs": [
        {
          "output_type": "execute_result",
          "data": {
            "text/plain": [
              "LAYING                1944\n",
              "STANDING              1906\n",
              "SITTING               1777\n",
              "WALKING               1722\n",
              "WALKING_UPSTAIRS      1544\n",
              "WALKING_DOWNSTAIRS    1406\n",
              "Name: Activity, dtype: int64"
            ]
          },
          "metadata": {},
          "execution_count": 37
        }
      ],
      "source": [
        "data.Activity.value_counts()"
      ]
    },
    {
      "cell_type": "markdown",
      "metadata": {
        "id": "NcXXvO09ridp"
      },
      "source": [
        "Scikit learn classifiers won't accept a sparse matrix for the prediction column. Thus, either `LabelEncoder` needs to be used to convert the activity labels to integers, or if `DictVectorizer` is used, the resulting matrix must be converted to a non-sparse array.\\\n",
        "Use `LabelEncoder` to fit_transform the \"Activity\" column, and look at 5 random values.\n"
      ]
    },
    {
      "cell_type": "code",
      "execution_count": 38,
      "metadata": {
        "jupyter": {
          "outputs_hidden": false
        },
        "colab": {
          "base_uri": "https://localhost:8080/"
        },
        "id": "2LXzg0pIridp",
        "outputId": "4592c65d-7017-4cf3-ea63-a3fda87ca0e1"
      },
      "outputs": [
        {
          "output_type": "execute_result",
          "data": {
            "text/plain": [
              "9630    1\n",
              "2736    1\n",
              "9296    0\n",
              "5109    1\n",
              "8563    2\n",
              "2059    2\n",
              "4546    2\n",
              "652     4\n",
              "743     0\n",
              "7424    0\n",
              "4940    1\n",
              "704     2\n",
              "2364    5\n",
              "5440    4\n",
              "8949    0\n",
              "2310    3\n",
              "3541    3\n",
              "3908    3\n",
              "7580    3\n",
              "7492    5\n",
              "Name: Activity, dtype: int64"
            ]
          },
          "metadata": {},
          "execution_count": 38
        }
      ],
      "source": [
        "from sklearn.preprocessing import LabelEncoder\n",
        "\n",
        "le = LabelEncoder()\n",
        "data['Activity'] = le.fit_transform(data.Activity)\n",
        "data['Activity'].sample(20)\n",
        "### END SOLUTION"
      ]
    },
    {
      "cell_type": "markdown",
      "metadata": {
        "id": "_ZkxL4Rkridq"
      },
      "source": [
        " 2\n",
        "\n",
        "*   Calculate the correlations between the dependent variables.\n",
        "*   Create a histogram of the correlation values.\n",
        "*   Identify those that are most correlated (either positively or negatively).\n"
      ]
    },
    {
      "cell_type": "code",
      "execution_count": 39,
      "metadata": {
        "id": "-51Rf6wOridq"
      },
      "outputs": [],
      "source": [
        "### BEGIN SOLUTION\n",
        "# Calculate the correlation values\n",
        "feature_cols = data.columns[:-1]\n",
        "corr_values = data[feature_cols].corr()\n",
        "\n",
        "# Simplify by emptying all the data below the diagonal\n",
        "tril_index = np.tril_indices_from(corr_values)\n",
        "\n",
        "# Make the unused values NaNs  all diagonals and below are now Null\n",
        "for coord in zip(*tril_index):\n",
        "    corr_values.iloc[coord[0], coord[1]] = np.NaN\n",
        "    \n"
      ]
    },
    {
      "cell_type": "code",
      "execution_count": 40,
      "metadata": {
        "colab": {
          "base_uri": "https://localhost:8080/"
        },
        "id": "VN_9cZNeridq",
        "outputId": "a7ea87d6-ab96-4e38-b6a4-a5507f5eee49"
      },
      "outputs": [
        {
          "output_type": "execute_result",
          "data": {
            "text/plain": [
              "(560, 560)"
            ]
          },
          "metadata": {},
          "execution_count": 40
        }
      ],
      "source": [
        "coord"
      ]
    },
    {
      "cell_type": "code",
      "execution_count": 41,
      "metadata": {
        "colab": {
          "base_uri": "https://localhost:8080/",
          "height": 505
        },
        "id": "jhiLLcfZridq",
        "outputId": "71b75206-c39a-464e-a5b3-f7d9aecfc0fe"
      },
      "outputs": [
        {
          "output_type": "execute_result",
          "data": {
            "text/plain": [
              "                                      tBodyAcc-mean()-X  tBodyAcc-mean()-Y  \\\n",
              "tBodyAcc-mean()-X                                   NaN           0.128037   \n",
              "tBodyAcc-mean()-Y                                   NaN                NaN   \n",
              "tBodyAcc-mean()-Z                                   NaN                NaN   \n",
              "tBodyAcc-std()-X                                    NaN                NaN   \n",
              "tBodyAcc-std()-Y                                    NaN                NaN   \n",
              "...                                                 ...                ...   \n",
              "angle(tBodyGyroMean,gravityMean)                    NaN                NaN   \n",
              "angle(tBodyGyroJerkMean,gravityMean)                NaN                NaN   \n",
              "angle(X,gravityMean)                                NaN                NaN   \n",
              "angle(Y,gravityMean)                                NaN                NaN   \n",
              "angle(Z,gravityMean)                                NaN                NaN   \n",
              "\n",
              "                                      tBodyAcc-mean()-Z  tBodyAcc-std()-X  \\\n",
              "tBodyAcc-mean()-X                             -0.230302          0.004590   \n",
              "tBodyAcc-mean()-Y                             -0.029882         -0.046352   \n",
              "tBodyAcc-mean()-Z                                   NaN         -0.024185   \n",
              "tBodyAcc-std()-X                                    NaN               NaN   \n",
              "tBodyAcc-std()-Y                                    NaN               NaN   \n",
              "...                                                 ...               ...   \n",
              "angle(tBodyGyroMean,gravityMean)                    NaN               NaN   \n",
              "angle(tBodyGyroJerkMean,gravityMean)                NaN               NaN   \n",
              "angle(X,gravityMean)                                NaN               NaN   \n",
              "angle(Y,gravityMean)                                NaN               NaN   \n",
              "angle(Z,gravityMean)                                NaN               NaN   \n",
              "\n",
              "                                      tBodyAcc-std()-Y  tBodyAcc-std()-Z  \\\n",
              "tBodyAcc-mean()-X                            -0.016785         -0.036071   \n",
              "tBodyAcc-mean()-Y                            -0.046996         -0.054153   \n",
              "tBodyAcc-mean()-Z                            -0.023745         -0.015632   \n",
              "tBodyAcc-std()-X                              0.922525          0.861910   \n",
              "tBodyAcc-std()-Y                                   NaN          0.888259   \n",
              "...                                                ...               ...   \n",
              "angle(tBodyGyroMean,gravityMean)                   NaN               NaN   \n",
              "angle(tBodyGyroJerkMean,gravityMean)               NaN               NaN   \n",
              "angle(X,gravityMean)                               NaN               NaN   \n",
              "angle(Y,gravityMean)                               NaN               NaN   \n",
              "angle(Z,gravityMean)                               NaN               NaN   \n",
              "\n",
              "                                      tBodyAcc-mad()-X  tBodyAcc-mad()-Y  \\\n",
              "tBodyAcc-mean()-X                             0.010303         -0.017488   \n",
              "tBodyAcc-mean()-Y                            -0.045247         -0.047673   \n",
              "tBodyAcc-mean()-Z                            -0.022872         -0.022966   \n",
              "tBodyAcc-std()-X                              0.998662          0.916087   \n",
              "tBodyAcc-std()-Y                              0.918561          0.997510   \n",
              "...                                                ...               ...   \n",
              "angle(tBodyGyroMean,gravityMean)                   NaN               NaN   \n",
              "angle(tBodyGyroJerkMean,gravityMean)               NaN               NaN   \n",
              "angle(X,gravityMean)                               NaN               NaN   \n",
              "angle(Y,gravityMean)                               NaN               NaN   \n",
              "angle(Z,gravityMean)                               NaN               NaN   \n",
              "\n",
              "                                      tBodyAcc-mad()-Z  tBodyAcc-max()-X  ...  \\\n",
              "tBodyAcc-mean()-X                            -0.038805          0.046943  ...   \n",
              "tBodyAcc-mean()-Y                            -0.055524         -0.039445  ...   \n",
              "tBodyAcc-mean()-Z                            -0.009577         -0.040218  ...   \n",
              "tBodyAcc-std()-X                              0.856497          0.981226  ...   \n",
              "tBodyAcc-std()-Y                              0.887052          0.911137  ...   \n",
              "...                                                ...               ...  ...   \n",
              "angle(tBodyGyroMean,gravityMean)                   NaN               NaN  ...   \n",
              "angle(tBodyGyroJerkMean,gravityMean)               NaN               NaN  ...   \n",
              "angle(X,gravityMean)                               NaN               NaN  ...   \n",
              "angle(Y,gravityMean)                               NaN               NaN  ...   \n",
              "angle(Z,gravityMean)                               NaN               NaN  ...   \n",
              "\n",
              "                                      fBodyBodyGyroJerkMag-meanFreq()  \\\n",
              "tBodyAcc-mean()-X                                            0.029901   \n",
              "tBodyAcc-mean()-Y                                           -0.014402   \n",
              "tBodyAcc-mean()-Z                                           -0.015358   \n",
              "tBodyAcc-std()-X                                            -0.068807   \n",
              "tBodyAcc-std()-Y                                            -0.109941   \n",
              "...                                                               ...   \n",
              "angle(tBodyGyroMean,gravityMean)                                  NaN   \n",
              "angle(tBodyGyroJerkMean,gravityMean)                              NaN   \n",
              "angle(X,gravityMean)                                              NaN   \n",
              "angle(Y,gravityMean)                                              NaN   \n",
              "angle(Z,gravityMean)                                              NaN   \n",
              "\n",
              "                                      fBodyBodyGyroJerkMag-skewness()  \\\n",
              "tBodyAcc-mean()-X                                           -0.006179   \n",
              "tBodyAcc-mean()-Y                                           -0.000649   \n",
              "tBodyAcc-mean()-Z                                            0.023050   \n",
              "tBodyAcc-std()-X                                             0.165552   \n",
              "tBodyAcc-std()-Y                                             0.220279   \n",
              "...                                                               ...   \n",
              "angle(tBodyGyroMean,gravityMean)                                  NaN   \n",
              "angle(tBodyGyroJerkMean,gravityMean)                              NaN   \n",
              "angle(X,gravityMean)                                              NaN   \n",
              "angle(Y,gravityMean)                                              NaN   \n",
              "angle(Z,gravityMean)                                              NaN   \n",
              "\n",
              "                                      fBodyBodyGyroJerkMag-kurtosis()  \\\n",
              "tBodyAcc-mean()-X                                           -0.002255   \n",
              "tBodyAcc-mean()-Y                                           -0.002842   \n",
              "tBodyAcc-mean()-Z                                            0.023122   \n",
              "tBodyAcc-std()-X                                             0.135171   \n",
              "tBodyAcc-std()-Y                                             0.191164   \n",
              "...                                                               ...   \n",
              "angle(tBodyGyroMean,gravityMean)                                  NaN   \n",
              "angle(tBodyGyroJerkMean,gravityMean)                              NaN   \n",
              "angle(X,gravityMean)                                              NaN   \n",
              "angle(Y,gravityMean)                                              NaN   \n",
              "angle(Z,gravityMean)                                              NaN   \n",
              "\n",
              "                                      angle(tBodyAccMean,gravity)  \\\n",
              "tBodyAcc-mean()-X                                       -0.552989   \n",
              "tBodyAcc-mean()-Y                                        0.077750   \n",
              "tBodyAcc-mean()-Z                                        0.055020   \n",
              "tBodyAcc-std()-X                                        -0.034334   \n",
              "tBodyAcc-std()-Y                                        -0.020806   \n",
              "...                                                           ...   \n",
              "angle(tBodyGyroMean,gravityMean)                              NaN   \n",
              "angle(tBodyGyroJerkMean,gravityMean)                          NaN   \n",
              "angle(X,gravityMean)                                          NaN   \n",
              "angle(Y,gravityMean)                                          NaN   \n",
              "angle(Z,gravityMean)                                          NaN   \n",
              "\n",
              "                                      angle(tBodyAccJerkMean),gravityMean)  \\\n",
              "tBodyAcc-mean()-X                                                 0.015754   \n",
              "tBodyAcc-mean()-Y                                                -0.027567   \n",
              "tBodyAcc-mean()-Z                                                -0.042083   \n",
              "tBodyAcc-std()-X                                                 -0.017096   \n",
              "tBodyAcc-std()-Y                                                 -0.006605   \n",
              "...                                                                    ...   \n",
              "angle(tBodyGyroMean,gravityMean)                                       NaN   \n",
              "angle(tBodyGyroJerkMean,gravityMean)                                   NaN   \n",
              "angle(X,gravityMean)                                                   NaN   \n",
              "angle(Y,gravityMean)                                                   NaN   \n",
              "angle(Z,gravityMean)                                                   NaN   \n",
              "\n",
              "                                      angle(tBodyGyroMean,gravityMean)  \\\n",
              "tBodyAcc-mean()-X                                             0.036047   \n",
              "tBodyAcc-mean()-Y                                             0.013241   \n",
              "tBodyAcc-mean()-Z                                            -0.066233   \n",
              "tBodyAcc-std()-X                                              0.027464   \n",
              "tBodyAcc-std()-Y                                              0.001902   \n",
              "...                                                                ...   \n",
              "angle(tBodyGyroMean,gravityMean)                                   NaN   \n",
              "angle(tBodyGyroJerkMean,gravityMean)                               NaN   \n",
              "angle(X,gravityMean)                                               NaN   \n",
              "angle(Y,gravityMean)                                               NaN   \n",
              "angle(Z,gravityMean)                                               NaN   \n",
              "\n",
              "                                      angle(tBodyGyroJerkMean,gravityMean)  \\\n",
              "tBodyAcc-mean()-X                                                 0.034296   \n",
              "tBodyAcc-mean()-Y                                                 0.077627   \n",
              "tBodyAcc-mean()-Z                                                -0.030748   \n",
              "tBodyAcc-std()-X                                                 -0.027123   \n",
              "tBodyAcc-std()-Y                                                 -0.015784   \n",
              "...                                                                    ...   \n",
              "angle(tBodyGyroMean,gravityMean)                                 -0.112454   \n",
              "angle(tBodyGyroJerkMean,gravityMean)                                   NaN   \n",
              "angle(X,gravityMean)                                                   NaN   \n",
              "angle(Y,gravityMean)                                                   NaN   \n",
              "angle(Z,gravityMean)                                                   NaN   \n",
              "\n",
              "                                      angle(X,gravityMean)  \\\n",
              "tBodyAcc-mean()-X                                -0.041021   \n",
              "tBodyAcc-mean()-Y                                -0.007513   \n",
              "tBodyAcc-mean()-Z                                 0.003215   \n",
              "tBodyAcc-std()-X                                 -0.374104   \n",
              "tBodyAcc-std()-Y                                 -0.381391   \n",
              "...                                                    ...   \n",
              "angle(tBodyGyroMean,gravityMean)                 -0.007095   \n",
              "angle(tBodyGyroJerkMean,gravityMean)              0.024822   \n",
              "angle(X,gravityMean)                                   NaN   \n",
              "angle(Y,gravityMean)                                   NaN   \n",
              "angle(Z,gravityMean)                                   NaN   \n",
              "\n",
              "                                      angle(Y,gravityMean)  \\\n",
              "tBodyAcc-mean()-X                                 0.034053   \n",
              "tBodyAcc-mean()-Y                                -0.005616   \n",
              "tBodyAcc-mean()-Z                                -0.012986   \n",
              "tBodyAcc-std()-X                                  0.449425   \n",
              "tBodyAcc-std()-Y                                  0.506106   \n",
              "...                                                    ...   \n",
              "angle(tBodyGyroMean,gravityMean)                 -0.006444   \n",
              "angle(tBodyGyroJerkMean,gravityMean)             -0.004582   \n",
              "angle(X,gravityMean)                             -0.748249   \n",
              "angle(Y,gravityMean)                                   NaN   \n",
              "angle(Z,gravityMean)                                   NaN   \n",
              "\n",
              "                                      angle(Z,gravityMean)  \n",
              "tBodyAcc-mean()-X                                 0.030656  \n",
              "tBodyAcc-mean()-Y                                -0.016233  \n",
              "tBodyAcc-mean()-Z                                -0.028406  \n",
              "tBodyAcc-std()-X                                  0.393063  \n",
              "tBodyAcc-std()-Y                                  0.425511  \n",
              "...                                                    ...  \n",
              "angle(tBodyGyroMean,gravityMean)                 -0.015380  \n",
              "angle(tBodyGyroJerkMean,gravityMean)             -0.012549  \n",
              "angle(X,gravityMean)                             -0.635231  \n",
              "angle(Y,gravityMean)                              0.545614  \n",
              "angle(Z,gravityMean)                                   NaN  \n",
              "\n",
              "[561 rows x 561 columns]"
            ],
            "text/html": [
              "\n",
              "  <div id=\"df-56921b94-124f-4c04-a8a5-0611c40f1be8\">\n",
              "    <div class=\"colab-df-container\">\n",
              "      <div>\n",
              "<style scoped>\n",
              "    .dataframe tbody tr th:only-of-type {\n",
              "        vertical-align: middle;\n",
              "    }\n",
              "\n",
              "    .dataframe tbody tr th {\n",
              "        vertical-align: top;\n",
              "    }\n",
              "\n",
              "    .dataframe thead th {\n",
              "        text-align: right;\n",
              "    }\n",
              "</style>\n",
              "<table border=\"1\" class=\"dataframe\">\n",
              "  <thead>\n",
              "    <tr style=\"text-align: right;\">\n",
              "      <th></th>\n",
              "      <th>tBodyAcc-mean()-X</th>\n",
              "      <th>tBodyAcc-mean()-Y</th>\n",
              "      <th>tBodyAcc-mean()-Z</th>\n",
              "      <th>tBodyAcc-std()-X</th>\n",
              "      <th>tBodyAcc-std()-Y</th>\n",
              "      <th>tBodyAcc-std()-Z</th>\n",
              "      <th>tBodyAcc-mad()-X</th>\n",
              "      <th>tBodyAcc-mad()-Y</th>\n",
              "      <th>tBodyAcc-mad()-Z</th>\n",
              "      <th>tBodyAcc-max()-X</th>\n",
              "      <th>...</th>\n",
              "      <th>fBodyBodyGyroJerkMag-meanFreq()</th>\n",
              "      <th>fBodyBodyGyroJerkMag-skewness()</th>\n",
              "      <th>fBodyBodyGyroJerkMag-kurtosis()</th>\n",
              "      <th>angle(tBodyAccMean,gravity)</th>\n",
              "      <th>angle(tBodyAccJerkMean),gravityMean)</th>\n",
              "      <th>angle(tBodyGyroMean,gravityMean)</th>\n",
              "      <th>angle(tBodyGyroJerkMean,gravityMean)</th>\n",
              "      <th>angle(X,gravityMean)</th>\n",
              "      <th>angle(Y,gravityMean)</th>\n",
              "      <th>angle(Z,gravityMean)</th>\n",
              "    </tr>\n",
              "  </thead>\n",
              "  <tbody>\n",
              "    <tr>\n",
              "      <th>tBodyAcc-mean()-X</th>\n",
              "      <td>NaN</td>\n",
              "      <td>0.128037</td>\n",
              "      <td>-0.230302</td>\n",
              "      <td>0.004590</td>\n",
              "      <td>-0.016785</td>\n",
              "      <td>-0.036071</td>\n",
              "      <td>0.010303</td>\n",
              "      <td>-0.017488</td>\n",
              "      <td>-0.038805</td>\n",
              "      <td>0.046943</td>\n",
              "      <td>...</td>\n",
              "      <td>0.029901</td>\n",
              "      <td>-0.006179</td>\n",
              "      <td>-0.002255</td>\n",
              "      <td>-0.552989</td>\n",
              "      <td>0.015754</td>\n",
              "      <td>0.036047</td>\n",
              "      <td>0.034296</td>\n",
              "      <td>-0.041021</td>\n",
              "      <td>0.034053</td>\n",
              "      <td>0.030656</td>\n",
              "    </tr>\n",
              "    <tr>\n",
              "      <th>tBodyAcc-mean()-Y</th>\n",
              "      <td>NaN</td>\n",
              "      <td>NaN</td>\n",
              "      <td>-0.029882</td>\n",
              "      <td>-0.046352</td>\n",
              "      <td>-0.046996</td>\n",
              "      <td>-0.054153</td>\n",
              "      <td>-0.045247</td>\n",
              "      <td>-0.047673</td>\n",
              "      <td>-0.055524</td>\n",
              "      <td>-0.039445</td>\n",
              "      <td>...</td>\n",
              "      <td>-0.014402</td>\n",
              "      <td>-0.000649</td>\n",
              "      <td>-0.002842</td>\n",
              "      <td>0.077750</td>\n",
              "      <td>-0.027567</td>\n",
              "      <td>0.013241</td>\n",
              "      <td>0.077627</td>\n",
              "      <td>-0.007513</td>\n",
              "      <td>-0.005616</td>\n",
              "      <td>-0.016233</td>\n",
              "    </tr>\n",
              "    <tr>\n",
              "      <th>tBodyAcc-mean()-Z</th>\n",
              "      <td>NaN</td>\n",
              "      <td>NaN</td>\n",
              "      <td>NaN</td>\n",
              "      <td>-0.024185</td>\n",
              "      <td>-0.023745</td>\n",
              "      <td>-0.015632</td>\n",
              "      <td>-0.022872</td>\n",
              "      <td>-0.022966</td>\n",
              "      <td>-0.009577</td>\n",
              "      <td>-0.040218</td>\n",
              "      <td>...</td>\n",
              "      <td>-0.015358</td>\n",
              "      <td>0.023050</td>\n",
              "      <td>0.023122</td>\n",
              "      <td>0.055020</td>\n",
              "      <td>-0.042083</td>\n",
              "      <td>-0.066233</td>\n",
              "      <td>-0.030748</td>\n",
              "      <td>0.003215</td>\n",
              "      <td>-0.012986</td>\n",
              "      <td>-0.028406</td>\n",
              "    </tr>\n",
              "    <tr>\n",
              "      <th>tBodyAcc-std()-X</th>\n",
              "      <td>NaN</td>\n",
              "      <td>NaN</td>\n",
              "      <td>NaN</td>\n",
              "      <td>NaN</td>\n",
              "      <td>0.922525</td>\n",
              "      <td>0.861910</td>\n",
              "      <td>0.998662</td>\n",
              "      <td>0.916087</td>\n",
              "      <td>0.856497</td>\n",
              "      <td>0.981226</td>\n",
              "      <td>...</td>\n",
              "      <td>-0.068807</td>\n",
              "      <td>0.165552</td>\n",
              "      <td>0.135171</td>\n",
              "      <td>-0.034334</td>\n",
              "      <td>-0.017096</td>\n",
              "      <td>0.027464</td>\n",
              "      <td>-0.027123</td>\n",
              "      <td>-0.374104</td>\n",
              "      <td>0.449425</td>\n",
              "      <td>0.393063</td>\n",
              "    </tr>\n",
              "    <tr>\n",
              "      <th>tBodyAcc-std()-Y</th>\n",
              "      <td>NaN</td>\n",
              "      <td>NaN</td>\n",
              "      <td>NaN</td>\n",
              "      <td>NaN</td>\n",
              "      <td>NaN</td>\n",
              "      <td>0.888259</td>\n",
              "      <td>0.918561</td>\n",
              "      <td>0.997510</td>\n",
              "      <td>0.887052</td>\n",
              "      <td>0.911137</td>\n",
              "      <td>...</td>\n",
              "      <td>-0.109941</td>\n",
              "      <td>0.220279</td>\n",
              "      <td>0.191164</td>\n",
              "      <td>-0.020806</td>\n",
              "      <td>-0.006605</td>\n",
              "      <td>0.001902</td>\n",
              "      <td>-0.015784</td>\n",
              "      <td>-0.381391</td>\n",
              "      <td>0.506106</td>\n",
              "      <td>0.425511</td>\n",
              "    </tr>\n",
              "    <tr>\n",
              "      <th>...</th>\n",
              "      <td>...</td>\n",
              "      <td>...</td>\n",
              "      <td>...</td>\n",
              "      <td>...</td>\n",
              "      <td>...</td>\n",
              "      <td>...</td>\n",
              "      <td>...</td>\n",
              "      <td>...</td>\n",
              "      <td>...</td>\n",
              "      <td>...</td>\n",
              "      <td>...</td>\n",
              "      <td>...</td>\n",
              "      <td>...</td>\n",
              "      <td>...</td>\n",
              "      <td>...</td>\n",
              "      <td>...</td>\n",
              "      <td>...</td>\n",
              "      <td>...</td>\n",
              "      <td>...</td>\n",
              "      <td>...</td>\n",
              "      <td>...</td>\n",
              "    </tr>\n",
              "    <tr>\n",
              "      <th>angle(tBodyGyroMean,gravityMean)</th>\n",
              "      <td>NaN</td>\n",
              "      <td>NaN</td>\n",
              "      <td>NaN</td>\n",
              "      <td>NaN</td>\n",
              "      <td>NaN</td>\n",
              "      <td>NaN</td>\n",
              "      <td>NaN</td>\n",
              "      <td>NaN</td>\n",
              "      <td>NaN</td>\n",
              "      <td>NaN</td>\n",
              "      <td>...</td>\n",
              "      <td>NaN</td>\n",
              "      <td>NaN</td>\n",
              "      <td>NaN</td>\n",
              "      <td>NaN</td>\n",
              "      <td>NaN</td>\n",
              "      <td>NaN</td>\n",
              "      <td>-0.112454</td>\n",
              "      <td>-0.007095</td>\n",
              "      <td>-0.006444</td>\n",
              "      <td>-0.015380</td>\n",
              "    </tr>\n",
              "    <tr>\n",
              "      <th>angle(tBodyGyroJerkMean,gravityMean)</th>\n",
              "      <td>NaN</td>\n",
              "      <td>NaN</td>\n",
              "      <td>NaN</td>\n",
              "      <td>NaN</td>\n",
              "      <td>NaN</td>\n",
              "      <td>NaN</td>\n",
              "      <td>NaN</td>\n",
              "      <td>NaN</td>\n",
              "      <td>NaN</td>\n",
              "      <td>NaN</td>\n",
              "      <td>...</td>\n",
              "      <td>NaN</td>\n",
              "      <td>NaN</td>\n",
              "      <td>NaN</td>\n",
              "      <td>NaN</td>\n",
              "      <td>NaN</td>\n",
              "      <td>NaN</td>\n",
              "      <td>NaN</td>\n",
              "      <td>0.024822</td>\n",
              "      <td>-0.004582</td>\n",
              "      <td>-0.012549</td>\n",
              "    </tr>\n",
              "    <tr>\n",
              "      <th>angle(X,gravityMean)</th>\n",
              "      <td>NaN</td>\n",
              "      <td>NaN</td>\n",
              "      <td>NaN</td>\n",
              "      <td>NaN</td>\n",
              "      <td>NaN</td>\n",
              "      <td>NaN</td>\n",
              "      <td>NaN</td>\n",
              "      <td>NaN</td>\n",
              "      <td>NaN</td>\n",
              "      <td>NaN</td>\n",
              "      <td>...</td>\n",
              "      <td>NaN</td>\n",
              "      <td>NaN</td>\n",
              "      <td>NaN</td>\n",
              "      <td>NaN</td>\n",
              "      <td>NaN</td>\n",
              "      <td>NaN</td>\n",
              "      <td>NaN</td>\n",
              "      <td>NaN</td>\n",
              "      <td>-0.748249</td>\n",
              "      <td>-0.635231</td>\n",
              "    </tr>\n",
              "    <tr>\n",
              "      <th>angle(Y,gravityMean)</th>\n",
              "      <td>NaN</td>\n",
              "      <td>NaN</td>\n",
              "      <td>NaN</td>\n",
              "      <td>NaN</td>\n",
              "      <td>NaN</td>\n",
              "      <td>NaN</td>\n",
              "      <td>NaN</td>\n",
              "      <td>NaN</td>\n",
              "      <td>NaN</td>\n",
              "      <td>NaN</td>\n",
              "      <td>...</td>\n",
              "      <td>NaN</td>\n",
              "      <td>NaN</td>\n",
              "      <td>NaN</td>\n",
              "      <td>NaN</td>\n",
              "      <td>NaN</td>\n",
              "      <td>NaN</td>\n",
              "      <td>NaN</td>\n",
              "      <td>NaN</td>\n",
              "      <td>NaN</td>\n",
              "      <td>0.545614</td>\n",
              "    </tr>\n",
              "    <tr>\n",
              "      <th>angle(Z,gravityMean)</th>\n",
              "      <td>NaN</td>\n",
              "      <td>NaN</td>\n",
              "      <td>NaN</td>\n",
              "      <td>NaN</td>\n",
              "      <td>NaN</td>\n",
              "      <td>NaN</td>\n",
              "      <td>NaN</td>\n",
              "      <td>NaN</td>\n",
              "      <td>NaN</td>\n",
              "      <td>NaN</td>\n",
              "      <td>...</td>\n",
              "      <td>NaN</td>\n",
              "      <td>NaN</td>\n",
              "      <td>NaN</td>\n",
              "      <td>NaN</td>\n",
              "      <td>NaN</td>\n",
              "      <td>NaN</td>\n",
              "      <td>NaN</td>\n",
              "      <td>NaN</td>\n",
              "      <td>NaN</td>\n",
              "      <td>NaN</td>\n",
              "    </tr>\n",
              "  </tbody>\n",
              "</table>\n",
              "<p>561 rows × 561 columns</p>\n",
              "</div>\n",
              "      <button class=\"colab-df-convert\" onclick=\"convertToInteractive('df-56921b94-124f-4c04-a8a5-0611c40f1be8')\"\n",
              "              title=\"Convert this dataframe to an interactive table.\"\n",
              "              style=\"display:none;\">\n",
              "        \n",
              "  <svg xmlns=\"http://www.w3.org/2000/svg\" height=\"24px\"viewBox=\"0 0 24 24\"\n",
              "       width=\"24px\">\n",
              "    <path d=\"M0 0h24v24H0V0z\" fill=\"none\"/>\n",
              "    <path d=\"M18.56 5.44l.94 2.06.94-2.06 2.06-.94-2.06-.94-.94-2.06-.94 2.06-2.06.94zm-11 1L8.5 8.5l.94-2.06 2.06-.94-2.06-.94L8.5 2.5l-.94 2.06-2.06.94zm10 10l.94 2.06.94-2.06 2.06-.94-2.06-.94-.94-2.06-.94 2.06-2.06.94z\"/><path d=\"M17.41 7.96l-1.37-1.37c-.4-.4-.92-.59-1.43-.59-.52 0-1.04.2-1.43.59L10.3 9.45l-7.72 7.72c-.78.78-.78 2.05 0 2.83L4 21.41c.39.39.9.59 1.41.59.51 0 1.02-.2 1.41-.59l7.78-7.78 2.81-2.81c.8-.78.8-2.07 0-2.86zM5.41 20L4 18.59l7.72-7.72 1.47 1.35L5.41 20z\"/>\n",
              "  </svg>\n",
              "      </button>\n",
              "      \n",
              "  <style>\n",
              "    .colab-df-container {\n",
              "      display:flex;\n",
              "      flex-wrap:wrap;\n",
              "      gap: 12px;\n",
              "    }\n",
              "\n",
              "    .colab-df-convert {\n",
              "      background-color: #E8F0FE;\n",
              "      border: none;\n",
              "      border-radius: 50%;\n",
              "      cursor: pointer;\n",
              "      display: none;\n",
              "      fill: #1967D2;\n",
              "      height: 32px;\n",
              "      padding: 0 0 0 0;\n",
              "      width: 32px;\n",
              "    }\n",
              "\n",
              "    .colab-df-convert:hover {\n",
              "      background-color: #E2EBFA;\n",
              "      box-shadow: 0px 1px 2px rgba(60, 64, 67, 0.3), 0px 1px 3px 1px rgba(60, 64, 67, 0.15);\n",
              "      fill: #174EA6;\n",
              "    }\n",
              "\n",
              "    [theme=dark] .colab-df-convert {\n",
              "      background-color: #3B4455;\n",
              "      fill: #D2E3FC;\n",
              "    }\n",
              "\n",
              "    [theme=dark] .colab-df-convert:hover {\n",
              "      background-color: #434B5C;\n",
              "      box-shadow: 0px 1px 3px 1px rgba(0, 0, 0, 0.15);\n",
              "      filter: drop-shadow(0px 1px 2px rgba(0, 0, 0, 0.3));\n",
              "      fill: #FFFFFF;\n",
              "    }\n",
              "  </style>\n",
              "\n",
              "      <script>\n",
              "        const buttonEl =\n",
              "          document.querySelector('#df-56921b94-124f-4c04-a8a5-0611c40f1be8 button.colab-df-convert');\n",
              "        buttonEl.style.display =\n",
              "          google.colab.kernel.accessAllowed ? 'block' : 'none';\n",
              "\n",
              "        async function convertToInteractive(key) {\n",
              "          const element = document.querySelector('#df-56921b94-124f-4c04-a8a5-0611c40f1be8');\n",
              "          const dataTable =\n",
              "            await google.colab.kernel.invokeFunction('convertToInteractive',\n",
              "                                                     [key], {});\n",
              "          if (!dataTable) return;\n",
              "\n",
              "          const docLinkHtml = 'Like what you see? Visit the ' +\n",
              "            '<a target=\"_blank\" href=https://colab.research.google.com/notebooks/data_table.ipynb>data table notebook</a>'\n",
              "            + ' to learn more about interactive tables.';\n",
              "          element.innerHTML = '';\n",
              "          dataTable['output_type'] = 'display_data';\n",
              "          await google.colab.output.renderOutput(dataTable, element);\n",
              "          const docLink = document.createElement('div');\n",
              "          docLink.innerHTML = docLinkHtml;\n",
              "          element.appendChild(docLink);\n",
              "        }\n",
              "      </script>\n",
              "    </div>\n",
              "  </div>\n",
              "  "
            ]
          },
          "metadata": {},
          "execution_count": 41
        }
      ],
      "source": [
        "\n",
        "corr_values"
      ]
    },
    {
      "cell_type": "code",
      "execution_count": 42,
      "metadata": {
        "colab": {
          "base_uri": "https://localhost:8080/",
          "height": 141
        },
        "id": "YNNzAJ04ridq",
        "outputId": "b6a99e80-0758-4f1e-b128-bf854d796bb3"
      },
      "outputs": [
        {
          "output_type": "execute_result",
          "data": {
            "text/plain": [
              "   0       1       2       3       4       5       6       7       8       \\\n",
              "0       0       1       1       2       2       2       3       3       3   \n",
              "1       0       0       1       0       1       2       0       1       2   \n",
              "\n",
              "   9       ...  157631  157632  157633  157634  157635  157636  157637  \\\n",
              "0       3  ...     560     560     560     560     560     560     560   \n",
              "1       3  ...     551     552     553     554     555     556     557   \n",
              "\n",
              "   157638  157639  157640  \n",
              "0     560     560     560  \n",
              "1     558     559     560  \n",
              "\n",
              "[2 rows x 157641 columns]"
            ],
            "text/html": [
              "\n",
              "  <div id=\"df-b5819b39-4abd-4cee-9dcc-bae99cfe3b2d\">\n",
              "    <div class=\"colab-df-container\">\n",
              "      <div>\n",
              "<style scoped>\n",
              "    .dataframe tbody tr th:only-of-type {\n",
              "        vertical-align: middle;\n",
              "    }\n",
              "\n",
              "    .dataframe tbody tr th {\n",
              "        vertical-align: top;\n",
              "    }\n",
              "\n",
              "    .dataframe thead th {\n",
              "        text-align: right;\n",
              "    }\n",
              "</style>\n",
              "<table border=\"1\" class=\"dataframe\">\n",
              "  <thead>\n",
              "    <tr style=\"text-align: right;\">\n",
              "      <th></th>\n",
              "      <th>0</th>\n",
              "      <th>1</th>\n",
              "      <th>2</th>\n",
              "      <th>3</th>\n",
              "      <th>4</th>\n",
              "      <th>5</th>\n",
              "      <th>6</th>\n",
              "      <th>7</th>\n",
              "      <th>8</th>\n",
              "      <th>9</th>\n",
              "      <th>...</th>\n",
              "      <th>157631</th>\n",
              "      <th>157632</th>\n",
              "      <th>157633</th>\n",
              "      <th>157634</th>\n",
              "      <th>157635</th>\n",
              "      <th>157636</th>\n",
              "      <th>157637</th>\n",
              "      <th>157638</th>\n",
              "      <th>157639</th>\n",
              "      <th>157640</th>\n",
              "    </tr>\n",
              "  </thead>\n",
              "  <tbody>\n",
              "    <tr>\n",
              "      <th>0</th>\n",
              "      <td>0</td>\n",
              "      <td>1</td>\n",
              "      <td>1</td>\n",
              "      <td>2</td>\n",
              "      <td>2</td>\n",
              "      <td>2</td>\n",
              "      <td>3</td>\n",
              "      <td>3</td>\n",
              "      <td>3</td>\n",
              "      <td>3</td>\n",
              "      <td>...</td>\n",
              "      <td>560</td>\n",
              "      <td>560</td>\n",
              "      <td>560</td>\n",
              "      <td>560</td>\n",
              "      <td>560</td>\n",
              "      <td>560</td>\n",
              "      <td>560</td>\n",
              "      <td>560</td>\n",
              "      <td>560</td>\n",
              "      <td>560</td>\n",
              "    </tr>\n",
              "    <tr>\n",
              "      <th>1</th>\n",
              "      <td>0</td>\n",
              "      <td>0</td>\n",
              "      <td>1</td>\n",
              "      <td>0</td>\n",
              "      <td>1</td>\n",
              "      <td>2</td>\n",
              "      <td>0</td>\n",
              "      <td>1</td>\n",
              "      <td>2</td>\n",
              "      <td>3</td>\n",
              "      <td>...</td>\n",
              "      <td>551</td>\n",
              "      <td>552</td>\n",
              "      <td>553</td>\n",
              "      <td>554</td>\n",
              "      <td>555</td>\n",
              "      <td>556</td>\n",
              "      <td>557</td>\n",
              "      <td>558</td>\n",
              "      <td>559</td>\n",
              "      <td>560</td>\n",
              "    </tr>\n",
              "  </tbody>\n",
              "</table>\n",
              "<p>2 rows × 157641 columns</p>\n",
              "</div>\n",
              "      <button class=\"colab-df-convert\" onclick=\"convertToInteractive('df-b5819b39-4abd-4cee-9dcc-bae99cfe3b2d')\"\n",
              "              title=\"Convert this dataframe to an interactive table.\"\n",
              "              style=\"display:none;\">\n",
              "        \n",
              "  <svg xmlns=\"http://www.w3.org/2000/svg\" height=\"24px\"viewBox=\"0 0 24 24\"\n",
              "       width=\"24px\">\n",
              "    <path d=\"M0 0h24v24H0V0z\" fill=\"none\"/>\n",
              "    <path d=\"M18.56 5.44l.94 2.06.94-2.06 2.06-.94-2.06-.94-.94-2.06-.94 2.06-2.06.94zm-11 1L8.5 8.5l.94-2.06 2.06-.94-2.06-.94L8.5 2.5l-.94 2.06-2.06.94zm10 10l.94 2.06.94-2.06 2.06-.94-2.06-.94-.94-2.06-.94 2.06-2.06.94z\"/><path d=\"M17.41 7.96l-1.37-1.37c-.4-.4-.92-.59-1.43-.59-.52 0-1.04.2-1.43.59L10.3 9.45l-7.72 7.72c-.78.78-.78 2.05 0 2.83L4 21.41c.39.39.9.59 1.41.59.51 0 1.02-.2 1.41-.59l7.78-7.78 2.81-2.81c.8-.78.8-2.07 0-2.86zM5.41 20L4 18.59l7.72-7.72 1.47 1.35L5.41 20z\"/>\n",
              "  </svg>\n",
              "      </button>\n",
              "      \n",
              "  <style>\n",
              "    .colab-df-container {\n",
              "      display:flex;\n",
              "      flex-wrap:wrap;\n",
              "      gap: 12px;\n",
              "    }\n",
              "\n",
              "    .colab-df-convert {\n",
              "      background-color: #E8F0FE;\n",
              "      border: none;\n",
              "      border-radius: 50%;\n",
              "      cursor: pointer;\n",
              "      display: none;\n",
              "      fill: #1967D2;\n",
              "      height: 32px;\n",
              "      padding: 0 0 0 0;\n",
              "      width: 32px;\n",
              "    }\n",
              "\n",
              "    .colab-df-convert:hover {\n",
              "      background-color: #E2EBFA;\n",
              "      box-shadow: 0px 1px 2px rgba(60, 64, 67, 0.3), 0px 1px 3px 1px rgba(60, 64, 67, 0.15);\n",
              "      fill: #174EA6;\n",
              "    }\n",
              "\n",
              "    [theme=dark] .colab-df-convert {\n",
              "      background-color: #3B4455;\n",
              "      fill: #D2E3FC;\n",
              "    }\n",
              "\n",
              "    [theme=dark] .colab-df-convert:hover {\n",
              "      background-color: #434B5C;\n",
              "      box-shadow: 0px 1px 3px 1px rgba(0, 0, 0, 0.15);\n",
              "      filter: drop-shadow(0px 1px 2px rgba(0, 0, 0, 0.3));\n",
              "      fill: #FFFFFF;\n",
              "    }\n",
              "  </style>\n",
              "\n",
              "      <script>\n",
              "        const buttonEl =\n",
              "          document.querySelector('#df-b5819b39-4abd-4cee-9dcc-bae99cfe3b2d button.colab-df-convert');\n",
              "        buttonEl.style.display =\n",
              "          google.colab.kernel.accessAllowed ? 'block' : 'none';\n",
              "\n",
              "        async function convertToInteractive(key) {\n",
              "          const element = document.querySelector('#df-b5819b39-4abd-4cee-9dcc-bae99cfe3b2d');\n",
              "          const dataTable =\n",
              "            await google.colab.kernel.invokeFunction('convertToInteractive',\n",
              "                                                     [key], {});\n",
              "          if (!dataTable) return;\n",
              "\n",
              "          const docLinkHtml = 'Like what you see? Visit the ' +\n",
              "            '<a target=\"_blank\" href=https://colab.research.google.com/notebooks/data_table.ipynb>data table notebook</a>'\n",
              "            + ' to learn more about interactive tables.';\n",
              "          element.innerHTML = '';\n",
              "          dataTable['output_type'] = 'display_data';\n",
              "          await google.colab.output.renderOutput(dataTable, element);\n",
              "          const docLink = document.createElement('div');\n",
              "          docLink.innerHTML = docLinkHtml;\n",
              "          element.appendChild(docLink);\n",
              "        }\n",
              "      </script>\n",
              "    </div>\n",
              "  </div>\n",
              "  "
            ]
          },
          "metadata": {},
          "execution_count": 42
        }
      ],
      "source": [
        "pd.DataFrame(tril_index)"
      ]
    },
    {
      "cell_type": "code",
      "execution_count": 43,
      "metadata": {
        "colab": {
          "base_uri": "https://localhost:8080/"
        },
        "id": "QhqC1nAiridr",
        "outputId": "aab800b0-89d0-4f3e-99c3-83378a9db042"
      },
      "outputs": [
        {
          "output_type": "execute_result",
          "data": {
            "text/plain": [
              "(array([  0,   1,   1, ..., 560, 560, 560]),\n",
              " array([  0,   0,   1, ..., 558, 559, 560]))"
            ]
          },
          "metadata": {},
          "execution_count": 43
        }
      ],
      "source": [
        "tril_index"
      ]
    },
    {
      "cell_type": "code",
      "execution_count": 44,
      "metadata": {
        "colab": {
          "base_uri": "https://localhost:8080/"
        },
        "id": "eRQK5D-kridr",
        "outputId": "913af2fb-838d-4d7f-d0a0-8ad72848d6af"
      },
      "outputs": [
        {
          "output_type": "execute_result",
          "data": {
            "text/plain": [
              "(array([  0,   1,   1, ..., 560, 560, 560]),\n",
              " array([  0,   0,   1, ..., 558, 559, 560]))"
            ]
          },
          "metadata": {},
          "execution_count": 44
        }
      ],
      "source": [
        "(tril_index)"
      ]
    },
    {
      "cell_type": "code",
      "execution_count": 45,
      "metadata": {
        "id": "ZZ4e4Rijridr"
      },
      "outputs": [],
      "source": [
        "# Stack the data and convert to a data frame\n",
        "corr_values = (corr_values\n",
        "               .stack()\n",
        "               .to_frame()\n",
        "               .reset_index()\n",
        "               .rename(columns={'level_0':'feature1',\n",
        "                                'level_1':'feature2',\n",
        "                                0:'correlation'}))\n",
        "\n",
        "# Get the absolute values for sorting\n",
        "corr_values['abs_correlation'] = corr_values.correlation.abs()"
      ]
    },
    {
      "cell_type": "code",
      "execution_count": 46,
      "metadata": {
        "colab": {
          "base_uri": "https://localhost:8080/",
          "height": 423
        },
        "id": "L6XiEy5-ridr",
        "outputId": "2f3a671e-89b3-4725-dc1e-0541303f9dcb"
      },
      "outputs": [
        {
          "output_type": "execute_result",
          "data": {
            "text/plain": [
              "                                    feature1              feature2  \\\n",
              "0                          tBodyAcc-mean()-X     tBodyAcc-mean()-Y   \n",
              "1                          tBodyAcc-mean()-X     tBodyAcc-mean()-Z   \n",
              "2                          tBodyAcc-mean()-X      tBodyAcc-std()-X   \n",
              "3                          tBodyAcc-mean()-X      tBodyAcc-std()-Y   \n",
              "4                          tBodyAcc-mean()-X      tBodyAcc-std()-Z   \n",
              "...                                      ...                   ...   \n",
              "157075  angle(tBodyGyroJerkMean,gravityMean)  angle(Y,gravityMean)   \n",
              "157076  angle(tBodyGyroJerkMean,gravityMean)  angle(Z,gravityMean)   \n",
              "157077                  angle(X,gravityMean)  angle(Y,gravityMean)   \n",
              "157078                  angle(X,gravityMean)  angle(Z,gravityMean)   \n",
              "157079                  angle(Y,gravityMean)  angle(Z,gravityMean)   \n",
              "\n",
              "        correlation  abs_correlation  \n",
              "0          0.128037         0.128037  \n",
              "1         -0.230302         0.230302  \n",
              "2          0.004590         0.004590  \n",
              "3         -0.016785         0.016785  \n",
              "4         -0.036071         0.036071  \n",
              "...             ...              ...  \n",
              "157075    -0.004582         0.004582  \n",
              "157076    -0.012549         0.012549  \n",
              "157077    -0.748249         0.748249  \n",
              "157078    -0.635231         0.635231  \n",
              "157079     0.545614         0.545614  \n",
              "\n",
              "[157080 rows x 4 columns]"
            ],
            "text/html": [
              "\n",
              "  <div id=\"df-fd0b1cf5-da82-49d2-b7e3-4041b264d75a\">\n",
              "    <div class=\"colab-df-container\">\n",
              "      <div>\n",
              "<style scoped>\n",
              "    .dataframe tbody tr th:only-of-type {\n",
              "        vertical-align: middle;\n",
              "    }\n",
              "\n",
              "    .dataframe tbody tr th {\n",
              "        vertical-align: top;\n",
              "    }\n",
              "\n",
              "    .dataframe thead th {\n",
              "        text-align: right;\n",
              "    }\n",
              "</style>\n",
              "<table border=\"1\" class=\"dataframe\">\n",
              "  <thead>\n",
              "    <tr style=\"text-align: right;\">\n",
              "      <th></th>\n",
              "      <th>feature1</th>\n",
              "      <th>feature2</th>\n",
              "      <th>correlation</th>\n",
              "      <th>abs_correlation</th>\n",
              "    </tr>\n",
              "  </thead>\n",
              "  <tbody>\n",
              "    <tr>\n",
              "      <th>0</th>\n",
              "      <td>tBodyAcc-mean()-X</td>\n",
              "      <td>tBodyAcc-mean()-Y</td>\n",
              "      <td>0.128037</td>\n",
              "      <td>0.128037</td>\n",
              "    </tr>\n",
              "    <tr>\n",
              "      <th>1</th>\n",
              "      <td>tBodyAcc-mean()-X</td>\n",
              "      <td>tBodyAcc-mean()-Z</td>\n",
              "      <td>-0.230302</td>\n",
              "      <td>0.230302</td>\n",
              "    </tr>\n",
              "    <tr>\n",
              "      <th>2</th>\n",
              "      <td>tBodyAcc-mean()-X</td>\n",
              "      <td>tBodyAcc-std()-X</td>\n",
              "      <td>0.004590</td>\n",
              "      <td>0.004590</td>\n",
              "    </tr>\n",
              "    <tr>\n",
              "      <th>3</th>\n",
              "      <td>tBodyAcc-mean()-X</td>\n",
              "      <td>tBodyAcc-std()-Y</td>\n",
              "      <td>-0.016785</td>\n",
              "      <td>0.016785</td>\n",
              "    </tr>\n",
              "    <tr>\n",
              "      <th>4</th>\n",
              "      <td>tBodyAcc-mean()-X</td>\n",
              "      <td>tBodyAcc-std()-Z</td>\n",
              "      <td>-0.036071</td>\n",
              "      <td>0.036071</td>\n",
              "    </tr>\n",
              "    <tr>\n",
              "      <th>...</th>\n",
              "      <td>...</td>\n",
              "      <td>...</td>\n",
              "      <td>...</td>\n",
              "      <td>...</td>\n",
              "    </tr>\n",
              "    <tr>\n",
              "      <th>157075</th>\n",
              "      <td>angle(tBodyGyroJerkMean,gravityMean)</td>\n",
              "      <td>angle(Y,gravityMean)</td>\n",
              "      <td>-0.004582</td>\n",
              "      <td>0.004582</td>\n",
              "    </tr>\n",
              "    <tr>\n",
              "      <th>157076</th>\n",
              "      <td>angle(tBodyGyroJerkMean,gravityMean)</td>\n",
              "      <td>angle(Z,gravityMean)</td>\n",
              "      <td>-0.012549</td>\n",
              "      <td>0.012549</td>\n",
              "    </tr>\n",
              "    <tr>\n",
              "      <th>157077</th>\n",
              "      <td>angle(X,gravityMean)</td>\n",
              "      <td>angle(Y,gravityMean)</td>\n",
              "      <td>-0.748249</td>\n",
              "      <td>0.748249</td>\n",
              "    </tr>\n",
              "    <tr>\n",
              "      <th>157078</th>\n",
              "      <td>angle(X,gravityMean)</td>\n",
              "      <td>angle(Z,gravityMean)</td>\n",
              "      <td>-0.635231</td>\n",
              "      <td>0.635231</td>\n",
              "    </tr>\n",
              "    <tr>\n",
              "      <th>157079</th>\n",
              "      <td>angle(Y,gravityMean)</td>\n",
              "      <td>angle(Z,gravityMean)</td>\n",
              "      <td>0.545614</td>\n",
              "      <td>0.545614</td>\n",
              "    </tr>\n",
              "  </tbody>\n",
              "</table>\n",
              "<p>157080 rows × 4 columns</p>\n",
              "</div>\n",
              "      <button class=\"colab-df-convert\" onclick=\"convertToInteractive('df-fd0b1cf5-da82-49d2-b7e3-4041b264d75a')\"\n",
              "              title=\"Convert this dataframe to an interactive table.\"\n",
              "              style=\"display:none;\">\n",
              "        \n",
              "  <svg xmlns=\"http://www.w3.org/2000/svg\" height=\"24px\"viewBox=\"0 0 24 24\"\n",
              "       width=\"24px\">\n",
              "    <path d=\"M0 0h24v24H0V0z\" fill=\"none\"/>\n",
              "    <path d=\"M18.56 5.44l.94 2.06.94-2.06 2.06-.94-2.06-.94-.94-2.06-.94 2.06-2.06.94zm-11 1L8.5 8.5l.94-2.06 2.06-.94-2.06-.94L8.5 2.5l-.94 2.06-2.06.94zm10 10l.94 2.06.94-2.06 2.06-.94-2.06-.94-.94-2.06-.94 2.06-2.06.94z\"/><path d=\"M17.41 7.96l-1.37-1.37c-.4-.4-.92-.59-1.43-.59-.52 0-1.04.2-1.43.59L10.3 9.45l-7.72 7.72c-.78.78-.78 2.05 0 2.83L4 21.41c.39.39.9.59 1.41.59.51 0 1.02-.2 1.41-.59l7.78-7.78 2.81-2.81c.8-.78.8-2.07 0-2.86zM5.41 20L4 18.59l7.72-7.72 1.47 1.35L5.41 20z\"/>\n",
              "  </svg>\n",
              "      </button>\n",
              "      \n",
              "  <style>\n",
              "    .colab-df-container {\n",
              "      display:flex;\n",
              "      flex-wrap:wrap;\n",
              "      gap: 12px;\n",
              "    }\n",
              "\n",
              "    .colab-df-convert {\n",
              "      background-color: #E8F0FE;\n",
              "      border: none;\n",
              "      border-radius: 50%;\n",
              "      cursor: pointer;\n",
              "      display: none;\n",
              "      fill: #1967D2;\n",
              "      height: 32px;\n",
              "      padding: 0 0 0 0;\n",
              "      width: 32px;\n",
              "    }\n",
              "\n",
              "    .colab-df-convert:hover {\n",
              "      background-color: #E2EBFA;\n",
              "      box-shadow: 0px 1px 2px rgba(60, 64, 67, 0.3), 0px 1px 3px 1px rgba(60, 64, 67, 0.15);\n",
              "      fill: #174EA6;\n",
              "    }\n",
              "\n",
              "    [theme=dark] .colab-df-convert {\n",
              "      background-color: #3B4455;\n",
              "      fill: #D2E3FC;\n",
              "    }\n",
              "\n",
              "    [theme=dark] .colab-df-convert:hover {\n",
              "      background-color: #434B5C;\n",
              "      box-shadow: 0px 1px 3px 1px rgba(0, 0, 0, 0.15);\n",
              "      filter: drop-shadow(0px 1px 2px rgba(0, 0, 0, 0.3));\n",
              "      fill: #FFFFFF;\n",
              "    }\n",
              "  </style>\n",
              "\n",
              "      <script>\n",
              "        const buttonEl =\n",
              "          document.querySelector('#df-fd0b1cf5-da82-49d2-b7e3-4041b264d75a button.colab-df-convert');\n",
              "        buttonEl.style.display =\n",
              "          google.colab.kernel.accessAllowed ? 'block' : 'none';\n",
              "\n",
              "        async function convertToInteractive(key) {\n",
              "          const element = document.querySelector('#df-fd0b1cf5-da82-49d2-b7e3-4041b264d75a');\n",
              "          const dataTable =\n",
              "            await google.colab.kernel.invokeFunction('convertToInteractive',\n",
              "                                                     [key], {});\n",
              "          if (!dataTable) return;\n",
              "\n",
              "          const docLinkHtml = 'Like what you see? Visit the ' +\n",
              "            '<a target=\"_blank\" href=https://colab.research.google.com/notebooks/data_table.ipynb>data table notebook</a>'\n",
              "            + ' to learn more about interactive tables.';\n",
              "          element.innerHTML = '';\n",
              "          dataTable['output_type'] = 'display_data';\n",
              "          await google.colab.output.renderOutput(dataTable, element);\n",
              "          const docLink = document.createElement('div');\n",
              "          docLink.innerHTML = docLinkHtml;\n",
              "          element.appendChild(docLink);\n",
              "        }\n",
              "      </script>\n",
              "    </div>\n",
              "  </div>\n",
              "  "
            ]
          },
          "metadata": {},
          "execution_count": 46
        }
      ],
      "source": [
        "corr_values"
      ]
    },
    {
      "cell_type": "markdown",
      "metadata": {
        "id": "BIxUqQoEridr"
      },
      "source": [
        "A histogram of the absolute value correlations.\n"
      ]
    },
    {
      "cell_type": "code",
      "execution_count": 47,
      "metadata": {
        "id": "KP2LY-ZRrids"
      },
      "outputs": [],
      "source": [
        "import matplotlib.pyplot as plt\n",
        "import seaborn as sns\n",
        "%matplotlib inline"
      ]
    },
    {
      "cell_type": "code",
      "execution_count": 48,
      "metadata": {
        "jupyter": {
          "outputs_hidden": false
        },
        "colab": {
          "base_uri": "https://localhost:8080/",
          "height": 525
        },
        "id": "Swk5cg1nrids",
        "outputId": "ee074de5-347d-453e-bd5d-e7a528271ac9"
      },
      "outputs": [
        {
          "output_type": "display_data",
          "data": {
            "text/plain": [
              "<Figure size 864x576 with 1 Axes>"
            ],
            "image/png": "[encoded data removed]"
          },
          "metadata": {}
        }
      ],
      "source": [
        "sns.set_context('talk')\n",
        "sns.set_style('white')\n",
        "\n",
        "ax = corr_values.abs_correlation.hist(bins=50, figsize=(12, 8))\n",
        "ax.set(xlabel='Absolute Correlation', ylabel='Frequency');"
      ]
    },
    {
      "cell_type": "code",
      "execution_count": 49,
      "metadata": {
        "jupyter": {
          "outputs_hidden": false
        },
        "colab": {
          "base_uri": "https://localhost:8080/",
          "height": 423
        },
        "id": "BxIG17KHrids",
        "outputId": "0176cf0d-abb7-4294-cb0f-64254a221558"
      },
      "outputs": [
        {
          "output_type": "execute_result",
          "data": {
            "text/plain": [
              "                           feature1                    feature2  correlation  \\\n",
              "156894  fBodyBodyGyroJerkMag-mean()  fBodyBodyGyroJerkMag-sma()     1.000000   \n",
              "93902             tBodyAccMag-sma()        tGravityAccMag-sma()     1.000000   \n",
              "101139       tBodyAccJerkMag-mean()       tBodyAccJerkMag-sma()     1.000000   \n",
              "96706         tGravityAccMag-mean()        tGravityAccMag-sma()     1.000000   \n",
              "94257          tBodyAccMag-energy()     tGravityAccMag-energy()     1.000000   \n",
              "...                             ...                         ...          ...   \n",
              "22657          tGravityAcc-mean()-Y        angle(Y,gravityMean)    -0.993425   \n",
              "39225     tGravityAcc-arCoeff()-Z,3   tGravityAcc-arCoeff()-Z,4    -0.994267   \n",
              "38739     tGravityAcc-arCoeff()-Z,2   tGravityAcc-arCoeff()-Z,3    -0.994628   \n",
              "23176          tGravityAcc-mean()-Z        angle(Z,gravityMean)    -0.994764   \n",
              "38252     tGravityAcc-arCoeff()-Z,1   tGravityAcc-arCoeff()-Z,2    -0.995195   \n",
              "\n",
              "        abs_correlation  \n",
              "156894         1.000000  \n",
              "93902          1.000000  \n",
              "101139         1.000000  \n",
              "96706          1.000000  \n",
              "94257          1.000000  \n",
              "...                 ...  \n",
              "22657          0.993425  \n",
              "39225          0.994267  \n",
              "38739          0.994628  \n",
              "23176          0.994764  \n",
              "38252          0.995195  \n",
              "\n",
              "[22815 rows x 4 columns]"
            ],
            "text/html": [
              "\n",
              "  <div id=\"df-acab9c11-a251-4b63-bb57-eb15d4762a24\">\n",
              "    <div class=\"colab-df-container\">\n",
              "      <div>\n",
              "<style scoped>\n",
              "    .dataframe tbody tr th:only-of-type {\n",
              "        vertical-align: middle;\n",
              "    }\n",
              "\n",
              "    .dataframe tbody tr th {\n",
              "        vertical-align: top;\n",
              "    }\n",
              "\n",
              "    .dataframe thead th {\n",
              "        text-align: right;\n",
              "    }\n",
              "</style>\n",
              "<table border=\"1\" class=\"dataframe\">\n",
              "  <thead>\n",
              "    <tr style=\"text-align: right;\">\n",
              "      <th></th>\n",
              "      <th>feature1</th>\n",
              "      <th>feature2</th>\n",
              "      <th>correlation</th>\n",
              "      <th>abs_correlation</th>\n",
              "    </tr>\n",
              "  </thead>\n",
              "  <tbody>\n",
              "    <tr>\n",
              "      <th>156894</th>\n",
              "      <td>fBodyBodyGyroJerkMag-mean()</td>\n",
              "      <td>fBodyBodyGyroJerkMag-sma()</td>\n",
              "      <td>1.000000</td>\n",
              "      <td>1.000000</td>\n",
              "    </tr>\n",
              "    <tr>\n",
              "      <th>93902</th>\n",
              "      <td>tBodyAccMag-sma()</td>\n",
              "      <td>tGravityAccMag-sma()</td>\n",
              "      <td>1.000000</td>\n",
              "      <td>1.000000</td>\n",
              "    </tr>\n",
              "    <tr>\n",
              "      <th>101139</th>\n",
              "      <td>tBodyAccJerkMag-mean()</td>\n",
              "      <td>tBodyAccJerkMag-sma()</td>\n",
              "      <td>1.000000</td>\n",
              "      <td>1.000000</td>\n",
              "    </tr>\n",
              "    <tr>\n",
              "      <th>96706</th>\n",
              "      <td>tGravityAccMag-mean()</td>\n",
              "      <td>tGravityAccMag-sma()</td>\n",
              "      <td>1.000000</td>\n",
              "      <td>1.000000</td>\n",
              "    </tr>\n",
              "    <tr>\n",
              "      <th>94257</th>\n",
              "      <td>tBodyAccMag-energy()</td>\n",
              "      <td>tGravityAccMag-energy()</td>\n",
              "      <td>1.000000</td>\n",
              "      <td>1.000000</td>\n",
              "    </tr>\n",
              "    <tr>\n",
              "      <th>...</th>\n",
              "      <td>...</td>\n",
              "      <td>...</td>\n",
              "      <td>...</td>\n",
              "      <td>...</td>\n",
              "    </tr>\n",
              "    <tr>\n",
              "      <th>22657</th>\n",
              "      <td>tGravityAcc-mean()-Y</td>\n",
              "      <td>angle(Y,gravityMean)</td>\n",
              "      <td>-0.993425</td>\n",
              "      <td>0.993425</td>\n",
              "    </tr>\n",
              "    <tr>\n",
              "      <th>39225</th>\n",
              "      <td>tGravityAcc-arCoeff()-Z,3</td>\n",
              "      <td>tGravityAcc-arCoeff()-Z,4</td>\n",
              "      <td>-0.994267</td>\n",
              "      <td>0.994267</td>\n",
              "    </tr>\n",
              "    <tr>\n",
              "      <th>38739</th>\n",
              "      <td>tGravityAcc-arCoeff()-Z,2</td>\n",
              "      <td>tGravityAcc-arCoeff()-Z,3</td>\n",
              "      <td>-0.994628</td>\n",
              "      <td>0.994628</td>\n",
              "    </tr>\n",
              "    <tr>\n",
              "      <th>23176</th>\n",
              "      <td>tGravityAcc-mean()-Z</td>\n",
              "      <td>angle(Z,gravityMean)</td>\n",
              "      <td>-0.994764</td>\n",
              "      <td>0.994764</td>\n",
              "    </tr>\n",
              "    <tr>\n",
              "      <th>38252</th>\n",
              "      <td>tGravityAcc-arCoeff()-Z,1</td>\n",
              "      <td>tGravityAcc-arCoeff()-Z,2</td>\n",
              "      <td>-0.995195</td>\n",
              "      <td>0.995195</td>\n",
              "    </tr>\n",
              "  </tbody>\n",
              "</table>\n",
              "<p>22815 rows × 4 columns</p>\n",
              "</div>\n",
              "      <button class=\"colab-df-convert\" onclick=\"convertToInteractive('df-acab9c11-a251-4b63-bb57-eb15d4762a24')\"\n",
              "              title=\"Convert this dataframe to an interactive table.\"\n",
              "              style=\"display:none;\">\n",
              "        \n",
              "  <svg xmlns=\"http://www.w3.org/2000/svg\" height=\"24px\"viewBox=\"0 0 24 24\"\n",
              "       width=\"24px\">\n",
              "    <path d=\"M0 0h24v24H0V0z\" fill=\"none\"/>\n",
              "    <path d=\"M18.56 5.44l.94 2.06.94-2.06 2.06-.94-2.06-.94-.94-2.06-.94 2.06-2.06.94zm-11 1L8.5 8.5l.94-2.06 2.06-.94-2.06-.94L8.5 2.5l-.94 2.06-2.06.94zm10 10l.94 2.06.94-2.06 2.06-.94-2.06-.94-.94-2.06-.94 2.06-2.06.94z\"/><path d=\"M17.41 7.96l-1.37-1.37c-.4-.4-.92-.59-1.43-.59-.52 0-1.04.2-1.43.59L10.3 9.45l-7.72 7.72c-.78.78-.78 2.05 0 2.83L4 21.41c.39.39.9.59 1.41.59.51 0 1.02-.2 1.41-.59l7.78-7.78 2.81-2.81c.8-.78.8-2.07 0-2.86zM5.41 20L4 18.59l7.72-7.72 1.47 1.35L5.41 20z\"/>\n",
              "  </svg>\n",
              "      </button>\n",
              "      \n",
              "  <style>\n",
              "    .colab-df-container {\n",
              "      display:flex;\n",
              "      flex-wrap:wrap;\n",
              "      gap: 12px;\n",
              "    }\n",
              "\n",
              "    .colab-df-convert {\n",
              "      background-color: #E8F0FE;\n",
              "      border: none;\n",
              "      border-radius: 50%;\n",
              "      cursor: pointer;\n",
              "      display: none;\n",
              "      fill: #1967D2;\n",
              "      height: 32px;\n",
              "      padding: 0 0 0 0;\n",
              "      width: 32px;\n",
              "    }\n",
              "\n",
              "    .colab-df-convert:hover {\n",
              "      background-color: #E2EBFA;\n",
              "      box-shadow: 0px 1px 2px rgba(60, 64, 67, 0.3), 0px 1px 3px 1px rgba(60, 64, 67, 0.15);\n",
              "      fill: #174EA6;\n",
              "    }\n",
              "\n",
              "    [theme=dark] .colab-df-convert {\n",
              "      background-color: #3B4455;\n",
              "      fill: #D2E3FC;\n",
              "    }\n",
              "\n",
              "    [theme=dark] .colab-df-convert:hover {\n",
              "      background-color: #434B5C;\n",
              "      box-shadow: 0px 1px 3px 1px rgba(0, 0, 0, 0.15);\n",
              "      filter: drop-shadow(0px 1px 2px rgba(0, 0, 0, 0.3));\n",
              "      fill: #FFFFFF;\n",
              "    }\n",
              "  </style>\n",
              "\n",
              "      <script>\n",
              "        const buttonEl =\n",
              "          document.querySelector('#df-acab9c11-a251-4b63-bb57-eb15d4762a24 button.colab-df-convert');\n",
              "        buttonEl.style.display =\n",
              "          google.colab.kernel.accessAllowed ? 'block' : 'none';\n",
              "\n",
              "        async function convertToInteractive(key) {\n",
              "          const element = document.querySelector('#df-acab9c11-a251-4b63-bb57-eb15d4762a24');\n",
              "          const dataTable =\n",
              "            await google.colab.kernel.invokeFunction('convertToInteractive',\n",
              "                                                     [key], {});\n",
              "          if (!dataTable) return;\n",
              "\n",
              "          const docLinkHtml = 'Like what you see? Visit the ' +\n",
              "            '<a target=\"_blank\" href=https://colab.research.google.com/notebooks/data_table.ipynb>data table notebook</a>'\n",
              "            + ' to learn more about interactive tables.';\n",
              "          element.innerHTML = '';\n",
              "          dataTable['output_type'] = 'display_data';\n",
              "          await google.colab.output.renderOutput(dataTable, element);\n",
              "          const docLink = document.createElement('div');\n",
              "          docLink.innerHTML = docLinkHtml;\n",
              "          element.appendChild(docLink);\n",
              "        }\n",
              "      </script>\n",
              "    </div>\n",
              "  </div>\n",
              "  "
            ]
          },
          "metadata": {},
          "execution_count": 49
        }
      ],
      "source": [
        "# The most highly correlated values\n",
        "corr_values.sort_values('correlation', ascending=False).query('abs_correlation>0.8')\n",
        "### END SOLUTION"
      ]
    },
    {
      "cell_type": "markdown",
      "metadata": {
        "id": "js7CKwCTrids"
      },
      "source": [
        "3\n",
        "\n",
        "*   Split the data into train and test data sets. This can be done using any method, but consider using Scikit-learn's `StratifiedShuffleSplit` to maintain the same ratio of predictor classes.\n",
        "*   Regardless of the method used to split the data, compare the ratio of classes in both the train and test splits.\n",
        "strat_shuf_split = StratifiedShuffleSplit(n_splits=1, \n",
        "                                          test_size=0.3, \n",
        "                                          random_state=42)"
      ]
    },
    {
      "cell_type": "code",
      "execution_count": 50,
      "metadata": {
        "jupyter": {
          "outputs_hidden": false
        },
        "id": "HteusmABrids"
      },
      "outputs": [],
      "source": [
        "### BEGIN SOLUTION\n",
        "from sklearn.model_selection import StratifiedShuffleSplit\n",
        "\n",
        "# Get the split indexes\n",
        "strat_shuf_split = StratifiedShuffleSplit(n_splits=1, \n",
        "                                          test_size=0.3, \n",
        "                                          random_state=42)\n",
        "\n",
        "train_idx, test_idx = next(strat_shuf_split.split(data[feature_cols], data.Activity))\n",
        "\n",
        "# Create the dataframes\n",
        "X_train = data.loc[train_idx, feature_cols]\n",
        "y_train = data.loc[train_idx, 'Activity']\n",
        "\n",
        "X_test  = data.loc[test_idx, feature_cols]\n",
        "y_test  = data.loc[test_idx, 'Activity']"
      ]
    },
    {
      "cell_type": "code",
      "execution_count": 51,
      "metadata": {
        "colab": {
          "base_uri": "https://localhost:8080/"
        },
        "id": "oxYmemQ_rids",
        "outputId": "5332c1ec-26f5-4ab2-975d-3b947c062009"
      },
      "outputs": [
        {
          "output_type": "execute_result",
          "data": {
            "text/plain": [
              "(7209, 561)"
            ]
          },
          "metadata": {},
          "execution_count": 51
        }
      ],
      "source": [
        "X_train.shape"
      ]
    },
    {
      "cell_type": "code",
      "execution_count": 52,
      "metadata": {
        "jupyter": {
          "outputs_hidden": false
        },
        "colab": {
          "base_uri": "https://localhost:8080/"
        },
        "id": "FMc_FapYridt",
        "outputId": "71df12af-85f2-4621-bccd-cb8cee616a9d"
      },
      "outputs": [
        {
          "output_type": "execute_result",
          "data": {
            "text/plain": [
              "0    0.188792\n",
              "2    0.185046\n",
              "1    0.172562\n",
              "3    0.167152\n",
              "5    0.149951\n",
              "4    0.136496\n",
              "Name: Activity, dtype: float64"
            ]
          },
          "metadata": {},
          "execution_count": 52
        }
      ],
      "source": [
        "y_train.value_counts(normalize=True)"
      ]
    },
    {
      "cell_type": "code",
      "execution_count": 53,
      "metadata": {
        "jupyter": {
          "outputs_hidden": false
        },
        "colab": {
          "base_uri": "https://localhost:8080/"
        },
        "id": "hpg2nNbTridt",
        "outputId": "bd183107-f736-4531-aca4-b24797e1011a"
      },
      "outputs": [
        {
          "output_type": "execute_result",
          "data": {
            "text/plain": [
              "0    0.188673\n",
              "2    0.185113\n",
              "1    0.172492\n",
              "3    0.167314\n",
              "5    0.149838\n",
              "4    0.136570\n",
              "Name: Activity, dtype: float64"
            ]
          },
          "metadata": {},
          "execution_count": 53
        }
      ],
      "source": [
        "y_test.value_counts(normalize=True)\n",
        "### END SOLUTION"
      ]
    },
    {
      "cell_type": "markdown",
      "metadata": {
        "id": "nXAfP-B2ridt"
      },
      "source": [
        " 4\n",
        "\n",
        "*   Fit a logistic regression model without any regularization using all of the features. Be sure to read the documentation about fitting a multi-class model so you understand the coefficient output. Store the model.\n",
        "*   Using cross validation to determine the hyperparameters and fit models using L1 and L2 regularization. Store each of these models as well. Note the limitations on multi-class models, solvers, and regularizations. The regularized models, in particular the L1 model, will probably take a while to fit.\n"
      ]
    },
    {
      "cell_type": "code",
      "execution_count": 54,
      "metadata": {
        "jupyter": {
          "outputs_hidden": false
        },
        "id": "XXeCsFEIridt"
      },
      "outputs": [],
      "source": [
        "### BEGIN SOLUTION\n",
        "from sklearn.linear_model import LogisticRegression\n",
        "\n",
        "# Standard logistic regression\n",
        "lr = LogisticRegression(solver='liblinear').fit(X_train, y_train)"
      ]
    },
    {
      "cell_type": "code",
      "execution_count": 56,
      "metadata": {
        "jupyter": {
          "outputs_hidden": false
        },
        "id": "7MBSfdosridt"
      },
      "outputs": [],
      "source": [
        "from sklearn.linear_model import LogisticRegressionCV\n",
        "\n",
        "# L1 regularized logistic regression\n",
        "lr_l1 = LogisticRegressionCV(Cs=10, cv=4, penalty='l1', solver='liblinear').fit(X_train, y_train)"
      ]
    },
    {
      "cell_type": "code",
      "execution_count": 57,
      "metadata": {
        "id": "E7Zk_Wtlridt"
      },
      "outputs": [],
      "source": [
        "# L2 regularized logistic regression\n",
        "lr_l2 = LogisticRegressionCV(Cs=10, cv=4, penalty='l2', solver='liblinear').fit(X_train, y_train)\n",
        "### END SOLUTION"
      ]
    },
    {
      "cell_type": "markdown",
      "metadata": {
        "id": "KBZzsitMridt"
      },
      "source": [
        " 5\n",
        "\n",
        "*   Compare the magnitudes of the coefficients for each of the models. If one-vs-rest fitting was used, each set of coefficients can be plotted separately.\n"
      ]
    },
    {
      "cell_type": "code",
      "execution_count": 58,
      "metadata": {
        "jupyter": {
          "outputs_hidden": false
        },
        "colab": {
          "base_uri": "https://localhost:8080/",
          "height": 458
        },
        "id": "7YdyyZNDridt",
        "outputId": "4cb45d5e-4f13-40f2-8030-9a27b5838fad"
      },
      "outputs": [
        {
          "output_type": "execute_result",
          "data": {
            "text/plain": [
              "           lr                                                          l1  \\\n",
              "            0         1         2         3         4         5         0   \n",
              "185 -0.093491  1.887841 -2.135272 -0.304620 -0.465443  0.633427  0.000000   \n",
              "300  0.168280 -0.322430  0.210832  0.309345 -0.095025  0.201557  0.013995   \n",
              "440 -0.018536  0.027554  0.104700  0.087017 -0.219281  0.133143  0.000000   \n",
              "211 -0.005534  0.135921 -0.137265 -0.401044  0.179262  0.159214  0.000000   \n",
              "282 -0.036071  0.031882 -0.175761 -0.136021 -0.165785 -0.088916  0.000000   \n",
              "348 -0.064602 -0.190042 -0.395608  0.462108 -0.247096 -0.266495  0.000000   \n",
              "395 -0.030576  0.068774 -0.056179 -0.403864  0.493984  0.034115  0.000000   \n",
              "258 -0.005782  0.196109  0.160292  0.010545 -0.010104  0.163269  0.000000   \n",
              "72  -0.133143  0.117545 -0.066146 -0.641078 -0.443078  1.035463  0.000000   \n",
              "537  0.041935  0.217774 -0.302268  1.183666 -0.417392 -0.142686  0.000000   \n",
              "\n",
              "                                                             l2            \\\n",
              "            1         2         3         4         5         0         1   \n",
              "185  0.000000  0.000000  0.000000 -1.065107  6.443422 -0.145525  1.139874   \n",
              "300 -0.666752  0.000000  0.466013  0.000000  0.079819  0.414784 -1.785288   \n",
              "440  0.000000  0.000000  0.000000  0.000000  0.274589 -0.044313 -0.151570   \n",
              "211  0.000000  0.000000  0.000000  0.000000  1.368924 -0.024189  0.429085   \n",
              "282  0.000000  0.000000  0.000000  0.000000 -0.543611 -0.059133  0.436102   \n",
              "348  0.000000 -0.107012  0.000000  0.000000 -1.620505 -0.110563 -0.730799   \n",
              "395  0.000000  0.000000 -0.153137  0.021971  0.615191 -0.066040 -0.095663   \n",
              "258  0.000000  0.000000  0.000000  0.000000  0.145911 -0.030900  0.521916   \n",
              "72   0.000000  0.000000 -0.223931 -0.933951  2.098102 -0.298117 -1.395148   \n",
              "537  0.483564 -0.228640  1.360560 -0.045093  0.379723  0.074877  0.649844   \n",
              "\n",
              "                                             \n",
              "            2         3         4         5  \n",
              "185 -2.622216 -0.741077 -0.914192  1.854268  \n",
              "300  0.371155  0.847957  0.009959  0.192066  \n",
              "440  0.129136  0.149095 -0.482996  0.433870  \n",
              "211 -0.174604 -1.303414  0.381929  0.593392  \n",
              "282 -0.222258 -0.177766 -0.182022 -0.214053  \n",
              "348 -0.558658  0.886854 -0.376747 -0.471453  \n",
              "395 -0.072646 -1.040769  1.006539  0.344523  \n",
              "258  0.173021  0.005134 -0.098321  0.421575  \n",
              "72   0.043873 -1.552572 -1.066604  1.893854  \n",
              "537 -0.648289  2.556138 -0.918002 -0.142771  "
            ],
            "text/html": [
              "\n",
              "  <div id=\"df-582640ac-b258-4f69-8c5a-c8d472c9dc38\">\n",
              "    <div class=\"colab-df-container\">\n",
              "      <div>\n",
              "<style scoped>\n",
              "    .dataframe tbody tr th:only-of-type {\n",
              "        vertical-align: middle;\n",
              "    }\n",
              "\n",
              "    .dataframe tbody tr th {\n",
              "        vertical-align: top;\n",
              "    }\n",
              "\n",
              "    .dataframe thead tr th {\n",
              "        text-align: left;\n",
              "    }\n",
              "</style>\n",
              "<table border=\"1\" class=\"dataframe\">\n",
              "  <thead>\n",
              "    <tr>\n",
              "      <th></th>\n",
              "      <th colspan=\"6\" halign=\"left\">lr</th>\n",
              "      <th colspan=\"6\" halign=\"left\">l1</th>\n",
              "      <th colspan=\"6\" halign=\"left\">l2</th>\n",
              "    </tr>\n",
              "    <tr>\n",
              "      <th></th>\n",
              "      <th>0</th>\n",
              "      <th>1</th>\n",
              "      <th>2</th>\n",
              "      <th>3</th>\n",
              "      <th>4</th>\n",
              "      <th>5</th>\n",
              "      <th>0</th>\n",
              "      <th>1</th>\n",
              "      <th>2</th>\n",
              "      <th>3</th>\n",
              "      <th>4</th>\n",
              "      <th>5</th>\n",
              "      <th>0</th>\n",
              "      <th>1</th>\n",
              "      <th>2</th>\n",
              "      <th>3</th>\n",
              "      <th>4</th>\n",
              "      <th>5</th>\n",
              "    </tr>\n",
              "  </thead>\n",
              "  <tbody>\n",
              "    <tr>\n",
              "      <th>185</th>\n",
              "      <td>-0.093491</td>\n",
              "      <td>1.887841</td>\n",
              "      <td>-2.135272</td>\n",
              "      <td>-0.304620</td>\n",
              "      <td>-0.465443</td>\n",
              "      <td>0.633427</td>\n",
              "      <td>0.000000</td>\n",
              "      <td>0.000000</td>\n",
              "      <td>0.000000</td>\n",
              "      <td>0.000000</td>\n",
              "      <td>-1.065107</td>\n",
              "      <td>6.443422</td>\n",
              "      <td>-0.145525</td>\n",
              "      <td>1.139874</td>\n",
              "      <td>-2.622216</td>\n",
              "      <td>-0.741077</td>\n",
              "      <td>-0.914192</td>\n",
              "      <td>1.854268</td>\n",
              "    </tr>\n",
              "    <tr>\n",
              "      <th>300</th>\n",
              "      <td>0.168280</td>\n",
              "      <td>-0.322430</td>\n",
              "      <td>0.210832</td>\n",
              "      <td>0.309345</td>\n",
              "      <td>-0.095025</td>\n",
              "      <td>0.201557</td>\n",
              "      <td>0.013995</td>\n",
              "      <td>-0.666752</td>\n",
              "      <td>0.000000</td>\n",
              "      <td>0.466013</td>\n",
              "      <td>0.000000</td>\n",
              "      <td>0.079819</td>\n",
              "      <td>0.414784</td>\n",
              "      <td>-1.785288</td>\n",
              "      <td>0.371155</td>\n",
              "      <td>0.847957</td>\n",
              "      <td>0.009959</td>\n",
              "      <td>0.192066</td>\n",
              "    </tr>\n",
              "    <tr>\n",
              "      <th>440</th>\n",
              "      <td>-0.018536</td>\n",
              "      <td>0.027554</td>\n",
              "      <td>0.104700</td>\n",
              "      <td>0.087017</td>\n",
              "      <td>-0.219281</td>\n",
              "      <td>0.133143</td>\n",
              "      <td>0.000000</td>\n",
              "      <td>0.000000</td>\n",
              "      <td>0.000000</td>\n",
              "      <td>0.000000</td>\n",
              "      <td>0.000000</td>\n",
              "      <td>0.274589</td>\n",
              "      <td>-0.044313</td>\n",
              "      <td>-0.151570</td>\n",
              "      <td>0.129136</td>\n",
              "      <td>0.149095</td>\n",
              "      <td>-0.482996</td>\n",
              "      <td>0.433870</td>\n",
              "    </tr>\n",
              "    <tr>\n",
              "      <th>211</th>\n",
              "      <td>-0.005534</td>\n",
              "      <td>0.135921</td>\n",
              "      <td>-0.137265</td>\n",
              "      <td>-0.401044</td>\n",
              "      <td>0.179262</td>\n",
              "      <td>0.159214</td>\n",
              "      <td>0.000000</td>\n",
              "      <td>0.000000</td>\n",
              "      <td>0.000000</td>\n",
              "      <td>0.000000</td>\n",
              "      <td>0.000000</td>\n",
              "      <td>1.368924</td>\n",
              "      <td>-0.024189</td>\n",
              "      <td>0.429085</td>\n",
              "      <td>-0.174604</td>\n",
              "      <td>-1.303414</td>\n",
              "      <td>0.381929</td>\n",
              "      <td>0.593392</td>\n",
              "    </tr>\n",
              "    <tr>\n",
              "      <th>282</th>\n",
              "      <td>-0.036071</td>\n",
              "      <td>0.031882</td>\n",
              "      <td>-0.175761</td>\n",
              "      <td>-0.136021</td>\n",
              "      <td>-0.165785</td>\n",
              "      <td>-0.088916</td>\n",
              "      <td>0.000000</td>\n",
              "      <td>0.000000</td>\n",
              "      <td>0.000000</td>\n",
              "      <td>0.000000</td>\n",
              "      <td>0.000000</td>\n",
              "      <td>-0.543611</td>\n",
              "      <td>-0.059133</td>\n",
              "      <td>0.436102</td>\n",
              "      <td>-0.222258</td>\n",
              "      <td>-0.177766</td>\n",
              "      <td>-0.182022</td>\n",
              "      <td>-0.214053</td>\n",
              "    </tr>\n",
              "    <tr>\n",
              "      <th>348</th>\n",
              "      <td>-0.064602</td>\n",
              "      <td>-0.190042</td>\n",
              "      <td>-0.395608</td>\n",
              "      <td>0.462108</td>\n",
              "      <td>-0.247096</td>\n",
              "      <td>-0.266495</td>\n",
              "      <td>0.000000</td>\n",
              "      <td>0.000000</td>\n",
              "      <td>-0.107012</td>\n",
              "      <td>0.000000</td>\n",
              "      <td>0.000000</td>\n",
              "      <td>-1.620505</td>\n",
              "      <td>-0.110563</td>\n",
              "      <td>-0.730799</td>\n",
              "      <td>-0.558658</td>\n",
              "      <td>0.886854</td>\n",
              "      <td>-0.376747</td>\n",
              "      <td>-0.471453</td>\n",
              "    </tr>\n",
              "    <tr>\n",
              "      <th>395</th>\n",
              "      <td>-0.030576</td>\n",
              "      <td>0.068774</td>\n",
              "      <td>-0.056179</td>\n",
              "      <td>-0.403864</td>\n",
              "      <td>0.493984</td>\n",
              "      <td>0.034115</td>\n",
              "      <td>0.000000</td>\n",
              "      <td>0.000000</td>\n",
              "      <td>0.000000</td>\n",
              "      <td>-0.153137</td>\n",
              "      <td>0.021971</td>\n",
              "      <td>0.615191</td>\n",
              "      <td>-0.066040</td>\n",
              "      <td>-0.095663</td>\n",
              "      <td>-0.072646</td>\n",
              "      <td>-1.040769</td>\n",
              "      <td>1.006539</td>\n",
              "      <td>0.344523</td>\n",
              "    </tr>\n",
              "    <tr>\n",
              "      <th>258</th>\n",
              "      <td>-0.005782</td>\n",
              "      <td>0.196109</td>\n",
              "      <td>0.160292</td>\n",
              "      <td>0.010545</td>\n",
              "      <td>-0.010104</td>\n",
              "      <td>0.163269</td>\n",
              "      <td>0.000000</td>\n",
              "      <td>0.000000</td>\n",
              "      <td>0.000000</td>\n",
              "      <td>0.000000</td>\n",
              "      <td>0.000000</td>\n",
              "      <td>0.145911</td>\n",
              "      <td>-0.030900</td>\n",
              "      <td>0.521916</td>\n",
              "      <td>0.173021</td>\n",
              "      <td>0.005134</td>\n",
              "      <td>-0.098321</td>\n",
              "      <td>0.421575</td>\n",
              "    </tr>\n",
              "    <tr>\n",
              "      <th>72</th>\n",
              "      <td>-0.133143</td>\n",
              "      <td>0.117545</td>\n",
              "      <td>-0.066146</td>\n",
              "      <td>-0.641078</td>\n",
              "      <td>-0.443078</td>\n",
              "      <td>1.035463</td>\n",
              "      <td>0.000000</td>\n",
              "      <td>0.000000</td>\n",
              "      <td>0.000000</td>\n",
              "      <td>-0.223931</td>\n",
              "      <td>-0.933951</td>\n",
              "      <td>2.098102</td>\n",
              "      <td>-0.298117</td>\n",
              "      <td>-1.395148</td>\n",
              "      <td>0.043873</td>\n",
              "      <td>-1.552572</td>\n",
              "      <td>-1.066604</td>\n",
              "      <td>1.893854</td>\n",
              "    </tr>\n",
              "    <tr>\n",
              "      <th>537</th>\n",
              "      <td>0.041935</td>\n",
              "      <td>0.217774</td>\n",
              "      <td>-0.302268</td>\n",
              "      <td>1.183666</td>\n",
              "      <td>-0.417392</td>\n",
              "      <td>-0.142686</td>\n",
              "      <td>0.000000</td>\n",
              "      <td>0.483564</td>\n",
              "      <td>-0.228640</td>\n",
              "      <td>1.360560</td>\n",
              "      <td>-0.045093</td>\n",
              "      <td>0.379723</td>\n",
              "      <td>0.074877</td>\n",
              "      <td>0.649844</td>\n",
              "      <td>-0.648289</td>\n",
              "      <td>2.556138</td>\n",
              "      <td>-0.918002</td>\n",
              "      <td>-0.142771</td>\n",
              "    </tr>\n",
              "  </tbody>\n",
              "</table>\n",
              "</div>\n",
              "      <button class=\"colab-df-convert\" onclick=\"convertToInteractive('df-582640ac-b258-4f69-8c5a-c8d472c9dc38')\"\n",
              "              title=\"Convert this dataframe to an interactive table.\"\n",
              "              style=\"display:none;\">\n",
              "        \n",
              "  <svg xmlns=\"http://www.w3.org/2000/svg\" height=\"24px\"viewBox=\"0 0 24 24\"\n",
              "       width=\"24px\">\n",
              "    <path d=\"M0 0h24v24H0V0z\" fill=\"none\"/>\n",
              "    <path d=\"M18.56 5.44l.94 2.06.94-2.06 2.06-.94-2.06-.94-.94-2.06-.94 2.06-2.06.94zm-11 1L8.5 8.5l.94-2.06 2.06-.94-2.06-.94L8.5 2.5l-.94 2.06-2.06.94zm10 10l.94 2.06.94-2.06 2.06-.94-2.06-.94-.94-2.06-.94 2.06-2.06.94z\"/><path d=\"M17.41 7.96l-1.37-1.37c-.4-.4-.92-.59-1.43-.59-.52 0-1.04.2-1.43.59L10.3 9.45l-7.72 7.72c-.78.78-.78 2.05 0 2.83L4 21.41c.39.39.9.59 1.41.59.51 0 1.02-.2 1.41-.59l7.78-7.78 2.81-2.81c.8-.78.8-2.07 0-2.86zM5.41 20L4 18.59l7.72-7.72 1.47 1.35L5.41 20z\"/>\n",
              "  </svg>\n",
              "      </button>\n",
              "      \n",
              "  <style>\n",
              "    .colab-df-container {\n",
              "      display:flex;\n",
              "      flex-wrap:wrap;\n",
              "      gap: 12px;\n",
              "    }\n",
              "\n",
              "    .colab-df-convert {\n",
              "      background-color: #E8F0FE;\n",
              "      border: none;\n",
              "      border-radius: 50%;\n",
              "      cursor: pointer;\n",
              "      display: none;\n",
              "      fill: #1967D2;\n",
              "      height: 32px;\n",
              "      padding: 0 0 0 0;\n",
              "      width: 32px;\n",
              "    }\n",
              "\n",
              "    .colab-df-convert:hover {\n",
              "      background-color: #E2EBFA;\n",
              "      box-shadow: 0px 1px 2px rgba(60, 64, 67, 0.3), 0px 1px 3px 1px rgba(60, 64, 67, 0.15);\n",
              "      fill: #174EA6;\n",
              "    }\n",
              "\n",
              "    [theme=dark] .colab-df-convert {\n",
              "      background-color: #3B4455;\n",
              "      fill: #D2E3FC;\n",
              "    }\n",
              "\n",
              "    [theme=dark] .colab-df-convert:hover {\n",
              "      background-color: #434B5C;\n",
              "      box-shadow: 0px 1px 3px 1px rgba(0, 0, 0, 0.15);\n",
              "      filter: drop-shadow(0px 1px 2px rgba(0, 0, 0, 0.3));\n",
              "      fill: #FFFFFF;\n",
              "    }\n",
              "  </style>\n",
              "\n",
              "      <script>\n",
              "        const buttonEl =\n",
              "          document.querySelector('#df-582640ac-b258-4f69-8c5a-c8d472c9dc38 button.colab-df-convert');\n",
              "        buttonEl.style.display =\n",
              "          google.colab.kernel.accessAllowed ? 'block' : 'none';\n",
              "\n",
              "        async function convertToInteractive(key) {\n",
              "          const element = document.querySelector('#df-582640ac-b258-4f69-8c5a-c8d472c9dc38');\n",
              "          const dataTable =\n",
              "            await google.colab.kernel.invokeFunction('convertToInteractive',\n",
              "                                                     [key], {});\n",
              "          if (!dataTable) return;\n",
              "\n",
              "          const docLinkHtml = 'Like what you see? Visit the ' +\n",
              "            '<a target=\"_blank\" href=https://colab.research.google.com/notebooks/data_table.ipynb>data table notebook</a>'\n",
              "            + ' to learn more about interactive tables.';\n",
              "          element.innerHTML = '';\n",
              "          dataTable['output_type'] = 'display_data';\n",
              "          await google.colab.output.renderOutput(dataTable, element);\n",
              "          const docLink = document.createElement('div');\n",
              "          docLink.innerHTML = docLinkHtml;\n",
              "          element.appendChild(docLink);\n",
              "        }\n",
              "      </script>\n",
              "    </div>\n",
              "  </div>\n",
              "  "
            ]
          },
          "metadata": {},
          "execution_count": 58
        }
      ],
      "source": [
        "### BEGIN SOLUTION\n",
        "# Combine all the coefficients into a dataframe\n",
        "coefficients = list()\n",
        "\n",
        "coeff_labels = ['lr', 'l1', 'l2']\n",
        "coeff_models = [lr, lr_l1, lr_l2]\n",
        "\n",
        "for lab,mod in zip(coeff_labels, coeff_models):\n",
        "    coeffs = mod.coef_\n",
        "    coeff_label = pd.MultiIndex(levels=[[lab], [0,1,2,3,4,5]], \n",
        "                                 codes=[[0,0,0,0,0,0], [0,1,2,3,4,5]])\n",
        "    coefficients.append(pd.DataFrame(coeffs.T, columns=coeff_label))\n",
        "\n",
        "coefficients = pd.concat(coefficients, axis=1)\n",
        "\n",
        "coefficients.sample(10)"
      ]
    },
    {
      "cell_type": "markdown",
      "metadata": {
        "id": "tlWSWeqNridu"
      },
      "source": [
        "coefficients = pd.concat(coefficients, axis=1)\n",
        "\n",
        "coefficients.sample(10)"
      ]
    },
    {
      "cell_type": "code",
      "execution_count": 59,
      "metadata": {
        "colab": {
          "base_uri": "https://localhost:8080/"
        },
        "id": "lOz4CJPkridu",
        "outputId": "a24a7981-0aea-49b8-9055-faef24587719"
      },
      "outputs": [
        {
          "output_type": "execute_result",
          "data": {
            "text/plain": [
              "MultiIndex([('l2', 0),\n",
              "            ('l2', 1),\n",
              "            ('l2', 2),\n",
              "            ('l2', 3),\n",
              "            ('l2', 4),\n",
              "            ('l2', 5)],\n",
              "           )"
            ]
          },
          "metadata": {},
          "execution_count": 59
        }
      ],
      "source": [
        "pd.MultiIndex(levels=[[lab], [0,1,2,3,4,5]], \n",
        "                                 codes=[[0,0,0,0,0,0], [0,1,2,3,4,5]])\n",
        "   "
      ]
    },
    {
      "cell_type": "code",
      "execution_count": 60,
      "metadata": {
        "colab": {
          "base_uri": "https://localhost:8080/"
        },
        "id": "w54kn_yIridu",
        "outputId": "a9983481-5961-44a8-a27c-19a585f113d3"
      },
      "outputs": [
        {
          "output_type": "execute_result",
          "data": {
            "text/plain": [
              "(6, 561)"
            ]
          },
          "metadata": {},
          "execution_count": 60
        }
      ],
      "source": [
        "mod.coef_.shape"
      ]
    },
    {
      "cell_type": "code",
      "execution_count": 61,
      "metadata": {
        "colab": {
          "base_uri": "https://localhost:8080/"
        },
        "id": "zuIYfV2iridu",
        "outputId": "fc97a569-69c0-4050-e102-bf1b6e204c0b"
      },
      "outputs": [
        {
          "output_type": "execute_result",
          "data": {
            "text/plain": [
              "<bound method NDFrame.xs of            lr                                                          l1  \\\n",
              "            0         1         2         3         4         5         0   \n",
              "0   -0.087506 -0.445226  0.257963 -0.169283  0.764733 -0.080084  0.000000   \n",
              "1    0.014493 -0.201047  0.060892 -0.023509  0.107888 -0.247193  0.000000   \n",
              "2    0.030187  0.063196  0.245909  0.022339  0.059576 -0.402526  0.000000   \n",
              "3    0.004590 -0.733963 -0.352732 -0.701327  0.267160  0.696120  0.000000   \n",
              "4   -0.045407 -0.034155 -0.451850  0.260239 -0.516451  0.106248  0.000000   \n",
              "..        ...       ...       ...       ...       ...       ...       ...   \n",
              "556 -0.022132 -0.659468  0.550630 -0.234916  0.384852 -0.351492  0.000000   \n",
              "557  0.058454 -0.246969  0.268995 -0.162010 -0.159057  0.174153  0.000000   \n",
              "558  1.599105 -2.473095 -0.854612 -0.313143 -0.712011  0.416311  5.395563   \n",
              "559 -0.374313 -0.740397  1.771455 -0.242904 -0.274205  0.876728  0.000000   \n",
              "560 -0.188309 -0.298022  0.416920  0.065047 -0.041902  0.438815  0.000000   \n",
              "\n",
              "                                                              l2            \\\n",
              "            1         2         3         4          5         0         1   \n",
              "0    0.000000  0.000000 -0.077677  4.898128  -1.152534 -0.135283 -1.348236   \n",
              "1    0.000000  0.000000  0.000000  0.000000 -10.006417  0.029334 -1.136432   \n",
              "2    0.000000  0.000000  0.000000  0.000000  -2.858697  0.040581 -1.421621   \n",
              "3   -1.843345 -0.327457 -0.861605  0.000000   2.925344  0.019091 -2.562598   \n",
              "4    0.000000 -1.350772  0.000000 -1.545734  -0.198207 -0.035987  0.604554   \n",
              "..        ...       ...       ...       ...        ...       ...       ...   \n",
              "556 -0.763821  0.488350 -0.167456  0.369770  -0.881981 -0.142627 -0.820600   \n",
              "557 -0.669729  0.861409 -0.066375  0.000000   0.979767  0.119148 -0.676983   \n",
              "558 -8.186426  0.000000  0.000000 -1.188396   0.243455  2.949029 -9.604522   \n",
              "559  0.000000  0.000000  0.000000  0.000000   3.277279 -0.543058  2.940000   \n",
              "560  0.000000  0.000000  0.000000  0.000000   2.469367 -0.230753  0.889229   \n",
              "\n",
              "                                             \n",
              "            2         3         4         5  \n",
              "0    0.479343 -0.478968  1.838793  0.029739  \n",
              "1    0.104854 -0.153928  0.185910 -0.524950  \n",
              "2    0.442726  0.134546  0.007081 -0.954921  \n",
              "3   -0.430013 -1.788835  0.275226  1.760504  \n",
              "4   -0.664864  0.902840 -0.976804  0.072588  \n",
              "..        ...       ...       ...       ...  \n",
              "556  0.591217 -0.632063  0.632089 -0.623042  \n",
              "557  0.454580 -0.486397 -0.143807  0.353041  \n",
              "558 -0.937850 -0.832604 -1.465367  0.887873  \n",
              "559  2.237097 -0.940569 -0.663051  2.024930  \n",
              "560  0.568034  0.129730 -0.086923  1.021982  \n",
              "\n",
              "[561 rows x 18 columns]>"
            ]
          },
          "metadata": {},
          "execution_count": 61
        }
      ],
      "source": [
        "coefficients.xs"
      ]
    },
    {
      "cell_type": "code",
      "execution_count": 62,
      "metadata": {
        "colab": {
          "base_uri": "https://localhost:8080/",
          "height": 1000
        },
        "id": "DQHqynh8ridu",
        "outputId": "1f74c878-6b56-4fab-8d77-8ecf028f5ff6"
      },
      "outputs": [
        {
          "output_type": "stream",
          "name": "stdout",
          "text": [
            "[<matplotlib.axes._subplots.AxesSubplot object at 0x7fa2b5fd3910>\n",
            " <matplotlib.axes._subplots.AxesSubplot object at 0x7fa2b4f17be0>\n",
            " <matplotlib.axes._subplots.AxesSubplot object at 0x7fa2b5f80100>\n",
            " <matplotlib.axes._subplots.AxesSubplot object at 0x7fa2b5fb93a0>\n",
            " <matplotlib.axes._subplots.AxesSubplot object at 0x7fa2b52e6760>\n",
            " <matplotlib.axes._subplots.AxesSubplot object at 0x7fa2b84b2be0>]\n",
            "[<matplotlib.axes._subplots.AxesSubplot object at 0x7fa2b5fd3910>\n",
            " <matplotlib.axes._subplots.AxesSubplot object at 0x7fa2b4f17be0>\n",
            " <matplotlib.axes._subplots.AxesSubplot object at 0x7fa2b5f80100>\n",
            " <matplotlib.axes._subplots.AxesSubplot object at 0x7fa2b5fb93a0>\n",
            " <matplotlib.axes._subplots.AxesSubplot object at 0x7fa2b52e6760>\n",
            " <matplotlib.axes._subplots.AxesSubplot object at 0x7fa2b84b2be0>]\n",
            "[<matplotlib.axes._subplots.AxesSubplot object at 0x7fa2b5fd3910>\n",
            " <matplotlib.axes._subplots.AxesSubplot object at 0x7fa2b4f17be0>\n",
            " <matplotlib.axes._subplots.AxesSubplot object at 0x7fa2b5f80100>\n",
            " <matplotlib.axes._subplots.AxesSubplot object at 0x7fa2b5fb93a0>\n",
            " <matplotlib.axes._subplots.AxesSubplot object at 0x7fa2b52e6760>\n",
            " <matplotlib.axes._subplots.AxesSubplot object at 0x7fa2b84b2be0>]\n",
            "[<matplotlib.axes._subplots.AxesSubplot object at 0x7fa2b5fd3910>\n",
            " <matplotlib.axes._subplots.AxesSubplot object at 0x7fa2b4f17be0>\n",
            " <matplotlib.axes._subplots.AxesSubplot object at 0x7fa2b5f80100>\n",
            " <matplotlib.axes._subplots.AxesSubplot object at 0x7fa2b5fb93a0>\n",
            " <matplotlib.axes._subplots.AxesSubplot object at 0x7fa2b52e6760>\n",
            " <matplotlib.axes._subplots.AxesSubplot object at 0x7fa2b84b2be0>]\n",
            "[<matplotlib.axes._subplots.AxesSubplot object at 0x7fa2b5fd3910>\n",
            " <matplotlib.axes._subplots.AxesSubplot object at 0x7fa2b4f17be0>\n",
            " <matplotlib.axes._subplots.AxesSubplot object at 0x7fa2b5f80100>\n",
            " <matplotlib.axes._subplots.AxesSubplot object at 0x7fa2b5fb93a0>\n",
            " <matplotlib.axes._subplots.AxesSubplot object at 0x7fa2b52e6760>\n",
            " <matplotlib.axes._subplots.AxesSubplot object at 0x7fa2b84b2be0>]\n",
            "[<matplotlib.axes._subplots.AxesSubplot object at 0x7fa2b5fd3910>\n",
            " <matplotlib.axes._subplots.AxesSubplot object at 0x7fa2b4f17be0>\n",
            " <matplotlib.axes._subplots.AxesSubplot object at 0x7fa2b5f80100>\n",
            " <matplotlib.axes._subplots.AxesSubplot object at 0x7fa2b5fb93a0>\n",
            " <matplotlib.axes._subplots.AxesSubplot object at 0x7fa2b52e6760>\n",
            " <matplotlib.axes._subplots.AxesSubplot object at 0x7fa2b84b2be0>]\n"
          ]
        },
        {
          "output_type": "display_data",
          "data": {
            "text/plain": [
              "<Figure size 720x720 with 6 Axes>"
            ],
            "image/png": "[encoded data removed]"
          },
          "metadata": {}
        }
      ],
      "source": [
        "fig, axList = plt.subplots(nrows=3, ncols=2)\n",
        "axList = axList.flatten()\n",
        "fig.set_size_inches(10,10)\n",
        "\n",
        "for ax in enumerate(axList):\n",
        "\n",
        "    print(axList)"
      ]
    },
    {
      "cell_type": "markdown",
      "metadata": {
        "id": "1IDtAm59ridu"
      },
      "source": [
        "Prepare six separate plots for each of the multi-class coefficients.\n"
      ]
    },
    {
      "cell_type": "code",
      "execution_count": 63,
      "metadata": {
        "jupyter": {
          "outputs_hidden": false
        },
        "colab": {
          "base_uri": "https://localhost:8080/",
          "height": 712
        },
        "id": "2FvBTr9Oridu",
        "outputId": "30b126ec-4fd7-4d8f-f351-dddbc3d7c4d2"
      },
      "outputs": [
        {
          "output_type": "display_data",
          "data": {
            "text/plain": [
              "<Figure size 720x720 with 6 Axes>"
            ],
            "image/png": "[encoded data removed]"
          },
          "metadata": {}
        }
      ],
      "source": [
        "fig, axList = plt.subplots(nrows=3, ncols=2)\n",
        "axList = axList.flatten()\n",
        "fig.set_size_inches(10,10)\n",
        "\n",
        "for ax in enumerate(axList):\n",
        "    loc = ax[0]\n",
        "    ax = ax[1]\n",
        "    \n",
        "    data = coefficients.xs(loc, level=1, axis=1)\n",
        "    data.plot(marker='o', ls='', ms=2.0, ax=ax, legend=False)\n",
        "    \n",
        "    if ax is axList[0]:\n",
        "        ax.legend(loc=4)\n",
        "        \n",
        "    ax.set(title='Coefficient Set '+str(loc))\n",
        "\n",
        "plt.tight_layout()\n",
        "### END SOLUTION"
      ]
    },
    {
      "cell_type": "markdown",
      "metadata": {
        "id": "xMvEy-YDridv"
      },
      "source": [
        " 6\n",
        "\n",
        "*   Predict and store the class for each model.\n",
        "*   Store the probability for the predicted class for each model.\n"
      ]
    },
    {
      "cell_type": "code",
      "execution_count": 64,
      "metadata": {
        "jupyter": {
          "outputs_hidden": false
        },
        "colab": {
          "base_uri": "https://localhost:8080/",
          "height": 425
        },
        "id": "V0STK6sxridv",
        "outputId": "57fe7235-887c-4e36-a279-740a2c150ab5"
      },
      "outputs": [
        {
          "output_type": "execute_result",
          "data": {
            "text/plain": [
              "    lr  l1  l2\n",
              "0    3   3   3\n",
              "1    5   5   5\n",
              "2    3   3   3\n",
              "3    1   1   1\n",
              "4    0   0   0\n",
              "5    5   5   5\n",
              "6    0   0   0\n",
              "7    2   2   2\n",
              "8    0   0   0\n",
              "9    0   0   0\n",
              "10   2   2   2\n",
              "11   4   4   4"
            ],
            "text/html": [
              "\n",
              "  <div id=\"df-3488ccb9-3eda-4ddd-9d9a-6c86b486533f\">\n",
              "    <div class=\"colab-df-container\">\n",
              "      <div>\n",
              "<style scoped>\n",
              "    .dataframe tbody tr th:only-of-type {\n",
              "        vertical-align: middle;\n",
              "    }\n",
              "\n",
              "    .dataframe tbody tr th {\n",
              "        vertical-align: top;\n",
              "    }\n",
              "\n",
              "    .dataframe thead th {\n",
              "        text-align: right;\n",
              "    }\n",
              "</style>\n",
              "<table border=\"1\" class=\"dataframe\">\n",
              "  <thead>\n",
              "    <tr style=\"text-align: right;\">\n",
              "      <th></th>\n",
              "      <th>lr</th>\n",
              "      <th>l1</th>\n",
              "      <th>l2</th>\n",
              "    </tr>\n",
              "  </thead>\n",
              "  <tbody>\n",
              "    <tr>\n",
              "      <th>0</th>\n",
              "      <td>3</td>\n",
              "      <td>3</td>\n",
              "      <td>3</td>\n",
              "    </tr>\n",
              "    <tr>\n",
              "      <th>1</th>\n",
              "      <td>5</td>\n",
              "      <td>5</td>\n",
              "      <td>5</td>\n",
              "    </tr>\n",
              "    <tr>\n",
              "      <th>2</th>\n",
              "      <td>3</td>\n",
              "      <td>3</td>\n",
              "      <td>3</td>\n",
              "    </tr>\n",
              "    <tr>\n",
              "      <th>3</th>\n",
              "      <td>1</td>\n",
              "      <td>1</td>\n",
              "      <td>1</td>\n",
              "    </tr>\n",
              "    <tr>\n",
              "      <th>4</th>\n",
              "      <td>0</td>\n",
              "      <td>0</td>\n",
              "      <td>0</td>\n",
              "    </tr>\n",
              "    <tr>\n",
              "      <th>5</th>\n",
              "      <td>5</td>\n",
              "      <td>5</td>\n",
              "      <td>5</td>\n",
              "    </tr>\n",
              "    <tr>\n",
              "      <th>6</th>\n",
              "      <td>0</td>\n",
              "      <td>0</td>\n",
              "      <td>0</td>\n",
              "    </tr>\n",
              "    <tr>\n",
              "      <th>7</th>\n",
              "      <td>2</td>\n",
              "      <td>2</td>\n",
              "      <td>2</td>\n",
              "    </tr>\n",
              "    <tr>\n",
              "      <th>8</th>\n",
              "      <td>0</td>\n",
              "      <td>0</td>\n",
              "      <td>0</td>\n",
              "    </tr>\n",
              "    <tr>\n",
              "      <th>9</th>\n",
              "      <td>0</td>\n",
              "      <td>0</td>\n",
              "      <td>0</td>\n",
              "    </tr>\n",
              "    <tr>\n",
              "      <th>10</th>\n",
              "      <td>2</td>\n",
              "      <td>2</td>\n",
              "      <td>2</td>\n",
              "    </tr>\n",
              "    <tr>\n",
              "      <th>11</th>\n",
              "      <td>4</td>\n",
              "      <td>4</td>\n",
              "      <td>4</td>\n",
              "    </tr>\n",
              "  </tbody>\n",
              "</table>\n",
              "</div>\n",
              "      <button class=\"colab-df-convert\" onclick=\"convertToInteractive('df-3488ccb9-3eda-4ddd-9d9a-6c86b486533f')\"\n",
              "              title=\"Convert this dataframe to an interactive table.\"\n",
              "              style=\"display:none;\">\n",
              "        \n",
              "  <svg xmlns=\"http://www.w3.org/2000/svg\" height=\"24px\"viewBox=\"0 0 24 24\"\n",
              "       width=\"24px\">\n",
              "    <path d=\"M0 0h24v24H0V0z\" fill=\"none\"/>\n",
              "    <path d=\"M18.56 5.44l.94 2.06.94-2.06 2.06-.94-2.06-.94-.94-2.06-.94 2.06-2.06.94zm-11 1L8.5 8.5l.94-2.06 2.06-.94-2.06-.94L8.5 2.5l-.94 2.06-2.06.94zm10 10l.94 2.06.94-2.06 2.06-.94-2.06-.94-.94-2.06-.94 2.06-2.06.94z\"/><path d=\"M17.41 7.96l-1.37-1.37c-.4-.4-.92-.59-1.43-.59-.52 0-1.04.2-1.43.59L10.3 9.45l-7.72 7.72c-.78.78-.78 2.05 0 2.83L4 21.41c.39.39.9.59 1.41.59.51 0 1.02-.2 1.41-.59l7.78-7.78 2.81-2.81c.8-.78.8-2.07 0-2.86zM5.41 20L4 18.59l7.72-7.72 1.47 1.35L5.41 20z\"/>\n",
              "  </svg>\n",
              "      </button>\n",
              "      \n",
              "  <style>\n",
              "    .colab-df-container {\n",
              "      display:flex;\n",
              "      flex-wrap:wrap;\n",
              "      gap: 12px;\n",
              "    }\n",
              "\n",
              "    .colab-df-convert {\n",
              "      background-color: #E8F0FE;\n",
              "      border: none;\n",
              "      border-radius: 50%;\n",
              "      cursor: pointer;\n",
              "      display: none;\n",
              "      fill: #1967D2;\n",
              "      height: 32px;\n",
              "      padding: 0 0 0 0;\n",
              "      width: 32px;\n",
              "    }\n",
              "\n",
              "    .colab-df-convert:hover {\n",
              "      background-color: #E2EBFA;\n",
              "      box-shadow: 0px 1px 2px rgba(60, 64, 67, 0.3), 0px 1px 3px 1px rgba(60, 64, 67, 0.15);\n",
              "      fill: #174EA6;\n",
              "    }\n",
              "\n",
              "    [theme=dark] .colab-df-convert {\n",
              "      background-color: #3B4455;\n",
              "      fill: #D2E3FC;\n",
              "    }\n",
              "\n",
              "    [theme=dark] .colab-df-convert:hover {\n",
              "      background-color: #434B5C;\n",
              "      box-shadow: 0px 1px 3px 1px rgba(0, 0, 0, 0.15);\n",
              "      filter: drop-shadow(0px 1px 2px rgba(0, 0, 0, 0.3));\n",
              "      fill: #FFFFFF;\n",
              "    }\n",
              "  </style>\n",
              "\n",
              "      <script>\n",
              "        const buttonEl =\n",
              "          document.querySelector('#df-3488ccb9-3eda-4ddd-9d9a-6c86b486533f button.colab-df-convert');\n",
              "        buttonEl.style.display =\n",
              "          google.colab.kernel.accessAllowed ? 'block' : 'none';\n",
              "\n",
              "        async function convertToInteractive(key) {\n",
              "          const element = document.querySelector('#df-3488ccb9-3eda-4ddd-9d9a-6c86b486533f');\n",
              "          const dataTable =\n",
              "            await google.colab.kernel.invokeFunction('convertToInteractive',\n",
              "                                                     [key], {});\n",
              "          if (!dataTable) return;\n",
              "\n",
              "          const docLinkHtml = 'Like what you see? Visit the ' +\n",
              "            '<a target=\"_blank\" href=https://colab.research.google.com/notebooks/data_table.ipynb>data table notebook</a>'\n",
              "            + ' to learn more about interactive tables.';\n",
              "          element.innerHTML = '';\n",
              "          dataTable['output_type'] = 'display_data';\n",
              "          await google.colab.output.renderOutput(dataTable, element);\n",
              "          const docLink = document.createElement('div');\n",
              "          docLink.innerHTML = docLinkHtml;\n",
              "          element.appendChild(docLink);\n",
              "        }\n",
              "      </script>\n",
              "    </div>\n",
              "  </div>\n",
              "  "
            ]
          },
          "metadata": {},
          "execution_count": 64
        }
      ],
      "source": [
        "### BEGIN SOLUTION\n",
        "# Predict the class and the probability for each\n",
        "y_pred = list()\n",
        "y_prob = list()\n",
        "\n",
        "coeff_labels = ['lr', 'l1', 'l2']\n",
        "coeff_models = [lr, lr_l1, lr_l2]\n",
        "\n",
        "for lab,mod in zip(coeff_labels, coeff_models):\n",
        "    y_pred.append(pd.Series(mod.predict(X_test), name=lab))   #0,1,2,3,...\n",
        "    y_prob.append(pd.Series(mod.predict_proba(X_test).max(axis=1), name=lab))   \n",
        "    \n",
        "y_pred = pd.concat(y_pred, axis=1)\n",
        "y_prob = pd.concat(y_prob, axis=1)\n",
        "\n",
        "y_pred.head(12)"
      ]
    },
    {
      "cell_type": "code",
      "execution_count": null,
      "metadata": {
        "id": "6d5EKmVQridv",
        "outputId": "35ecee71-de61-4e19-8de6-d6b134cbbe18"
      },
      "outputs": [
        {
          "data": {
            "text/plain": [
              "(3090, 3)"
            ]
          },
          "execution_count": 122,
          "metadata": {},
          "output_type": "execute_result"
        }
      ],
      "source": [
        "y_pred.shape"
      ]
    },
    {
      "cell_type": "raw",
      "metadata": {
        "id": "3Tbmu3Shridv"
      },
      "source": []
    },
    {
      "cell_type": "code",
      "execution_count": null,
      "metadata": {
        "jupyter": {
          "outputs_hidden": false
        },
        "id": "fVuROjesridv",
        "outputId": "208cd708-0adf-429b-8320-d86d2977ac4a"
      },
      "outputs": [
        {
          "data": {
            "text/html": [
              "<div>\n",
              "<style scoped>\n",
              "    .dataframe tbody tr th:only-of-type {\n",
              "        vertical-align: middle;\n",
              "    }\n",
              "\n",
              "    .dataframe tbody tr th {\n",
              "        vertical-align: top;\n",
              "    }\n",
              "\n",
              "    .dataframe thead th {\n",
              "        text-align: right;\n",
              "    }\n",
              "</style>\n",
              "<table border=\"1\" class=\"dataframe\">\n",
              "  <thead>\n",
              "    <tr style=\"text-align: right;\">\n",
              "      <th></th>\n",
              "      <th>lr</th>\n",
              "      <th>l1</th>\n",
              "      <th>l2</th>\n",
              "    </tr>\n",
              "  </thead>\n",
              "  <tbody>\n",
              "    <tr>\n",
              "      <th>0</th>\n",
              "      <td>0.998939</td>\n",
              "      <td>0.998957</td>\n",
              "      <td>0.999758</td>\n",
              "    </tr>\n",
              "    <tr>\n",
              "      <th>1</th>\n",
              "      <td>0.988165</td>\n",
              "      <td>0.999545</td>\n",
              "      <td>0.999477</td>\n",
              "    </tr>\n",
              "    <tr>\n",
              "      <th>2</th>\n",
              "      <td>0.987592</td>\n",
              "      <td>0.995702</td>\n",
              "      <td>0.999685</td>\n",
              "    </tr>\n",
              "    <tr>\n",
              "      <th>3</th>\n",
              "      <td>0.981381</td>\n",
              "      <td>0.999191</td>\n",
              "      <td>0.994337</td>\n",
              "    </tr>\n",
              "    <tr>\n",
              "      <th>4</th>\n",
              "      <td>0.998277</td>\n",
              "      <td>0.999925</td>\n",
              "      <td>0.999997</td>\n",
              "    </tr>\n",
              "  </tbody>\n",
              "</table>\n",
              "</div>"
            ],
            "text/plain": [
              "         lr        l1        l2\n",
              "0  0.998939  0.998957  0.999758\n",
              "1  0.988165  0.999545  0.999477\n",
              "2  0.987592  0.995702  0.999685\n",
              "3  0.981381  0.999191  0.994337\n",
              "4  0.998277  0.999925  0.999997"
            ]
          },
          "execution_count": 110,
          "metadata": {},
          "output_type": "execute_result"
        }
      ],
      "source": [
        "y_prob.head()\n",
        "### END SOLUTION"
      ]
    },
    {
      "cell_type": "markdown",
      "metadata": {
        "id": "uZ7vtGxSridv"
      },
      "source": [
        "7\n",
        "\n",
        "For each model, calculate the following error metrics:\n",
        "\n",
        "*   Accuracy\n",
        "*   Precision\n",
        "*   Recall\n",
        "*   F-score\n",
        "*   Confusion Matrix\n",
        "\n",
        "Decide how to combine the multi-class metrics into a single value for each model.\n"
      ]
    },
    {
      "cell_type": "code",
      "execution_count": null,
      "metadata": {
        "id": "PDDqgI7lridv",
        "outputId": "103b9c3f-7f2d-4514-c0ac-7e76e7df4687"
      },
      "outputs": [
        {
          "data": {
            "text/plain": [
              "array([1.        , 0.9588015 , 0.96322242, 0.99613153, 0.99526066,\n",
              "       0.99568035])"
            ]
          },
          "execution_count": 114,
          "metadata": {},
          "output_type": "execute_result"
        }
      ],
      "source": [
        "score(y_test,y_pred['lr'])[0] #0 precision 1 recall 2 f score 3 breakdown"
      ]
    },
    {
      "cell_type": "code",
      "execution_count": null,
      "metadata": {
        "jupyter": {
          "outputs_hidden": false
        },
        "id": "m0-W5v1cridv"
      },
      "outputs": [],
      "source": [
        "### BEGIN SOLUTION\n",
        "from sklearn.metrics import precision_recall_fscore_support as score\n",
        "from sklearn.metrics import confusion_matrix, accuracy_score, roc_auc_score\n",
        "from sklearn.preprocessing import label_binarize\n",
        "\n",
        "metrics = list()\n",
        "cm = dict()\n",
        "\n",
        "for lab in coeff_labels:\n",
        "\n",
        "    # Preciision, recall, f-score from the multi-class support function\n",
        "    precision, recall, fscore, _ = score(y_test, y_pred[lab], average='weighted')\n",
        "    \n",
        "    # The usual way to calculate accuracy\n",
        "    accuracy = accuracy_score(y_test, y_pred[lab])\n",
        "    \n",
        "    # ROC-AUC scores can be calculated by binarizing the data\n",
        "    auc = roc_auc_score(label_binarize(y_test, classes=[0,1,2,3,4,5]),\n",
        "              label_binarize(y_pred[lab], classes=[0,1,2,3,4,5]), \n",
        "              average='weighted')\n",
        "    \n",
        "    # Last, the confusion matrix\n",
        "    cm[lab] = confusion_matrix(y_test, y_pred[lab])\n",
        "    \n",
        "    metrics.append(pd.Series({'precision':precision, 'recall':recall, \n",
        "                              'fscore':fscore, 'accuracy':accuracy,\n",
        "                              'auc':auc}, \n",
        "                             name=lab))\n",
        "\n",
        "metrics = pd.concat(metrics, axis=1)"
      ]
    },
    {
      "cell_type": "code",
      "execution_count": null,
      "metadata": {
        "jupyter": {
          "outputs_hidden": false
        },
        "id": "8aCg1xBKridw",
        "outputId": "efb26528-93bb-432c-864e-9e2373ae5b5a"
      },
      "outputs": [
        {
          "data": {
            "text/html": [
              "<div>\n",
              "<style scoped>\n",
              "    .dataframe tbody tr th:only-of-type {\n",
              "        vertical-align: middle;\n",
              "    }\n",
              "\n",
              "    .dataframe tbody tr th {\n",
              "        vertical-align: top;\n",
              "    }\n",
              "\n",
              "    .dataframe thead th {\n",
              "        text-align: right;\n",
              "    }\n",
              "</style>\n",
              "<table border=\"1\" class=\"dataframe\">\n",
              "  <thead>\n",
              "    <tr style=\"text-align: right;\">\n",
              "      <th></th>\n",
              "      <th>lr</th>\n",
              "      <th>l1</th>\n",
              "      <th>l2</th>\n",
              "    </tr>\n",
              "  </thead>\n",
              "  <tbody>\n",
              "    <tr>\n",
              "      <th>precision</th>\n",
              "      <td>0.984144</td>\n",
              "      <td>0.983835</td>\n",
              "      <td>0.983824</td>\n",
              "    </tr>\n",
              "    <tr>\n",
              "      <th>recall</th>\n",
              "      <td>0.984142</td>\n",
              "      <td>0.983819</td>\n",
              "      <td>0.983819</td>\n",
              "    </tr>\n",
              "    <tr>\n",
              "      <th>fscore</th>\n",
              "      <td>0.984143</td>\n",
              "      <td>0.983815</td>\n",
              "      <td>0.983819</td>\n",
              "    </tr>\n",
              "    <tr>\n",
              "      <th>accuracy</th>\n",
              "      <td>0.984142</td>\n",
              "      <td>0.983819</td>\n",
              "      <td>0.983819</td>\n",
              "    </tr>\n",
              "    <tr>\n",
              "      <th>auc</th>\n",
              "      <td>0.990384</td>\n",
              "      <td>0.990144</td>\n",
              "      <td>0.990165</td>\n",
              "    </tr>\n",
              "  </tbody>\n",
              "</table>\n",
              "</div>"
            ],
            "text/plain": [
              "                 lr        l1        l2\n",
              "precision  0.984144  0.983835  0.983824\n",
              "recall     0.984142  0.983819  0.983819\n",
              "fscore     0.984143  0.983815  0.983819\n",
              "accuracy   0.984142  0.983819  0.983819\n",
              "auc        0.990384  0.990144  0.990165"
            ]
          },
          "execution_count": 112,
          "metadata": {},
          "output_type": "execute_result"
        }
      ],
      "source": [
        "metrics\n",
        "### END SOLUTION"
      ]
    },
    {
      "cell_type": "markdown",
      "metadata": {
        "id": "cbAqQUSZridw"
      },
      "source": [
        "8\n",
        "\n",
        "*   Display or plot the confusion matrix for each model.\n"
      ]
    },
    {
      "cell_type": "code",
      "execution_count": null,
      "metadata": {
        "jupyter": {
          "outputs_hidden": false
        },
        "id": "fgI8wB3-ridw",
        "outputId": "c9559d8a-20f2-4fd3-8669-875aad4ed7fb"
      },
      "outputs": [
        {
          "data": {
            "image/png": "[encoded data removed]",
            "text/plain": [
              "<Figure size 864x720 with 7 Axes>"
            ]
          },
          "metadata": {},
          "output_type": "display_data"
        }
      ],
      "source": [
        "### BEGIN SOLUTION\n",
        "fig, axList = plt.subplots(nrows=2, ncols=2)\n",
        "axList = axList.flatten()\n",
        "fig.set_size_inches(12, 10)\n",
        "\n",
        "axList[-1].axis('off')\n",
        "\n",
        "for ax,lab in zip(axList[:-1], coeff_labels):\n",
        "    sns.heatmap(cm[lab], ax=ax, annot=True, fmt='d');\n",
        "    ax.set(title=lab);\n",
        "    \n",
        "plt.tight_layout()\n",
        "### END SOLUTION"
      ]
    },
    {
      "cell_type": "markdown",
      "metadata": {
        "id": "087PjhBfridw"
      },
      "source": [
        "***\n",
        "\n",
        "### Machine Learning Foundation (C) 2020 IBM Corporation\n"
      ]
    }
  ],
  "metadata": {
    "kernelspec": {
      "display_name": "Python 3 (ipykernel)",
      "language": "python",
      "name": "python3"
    },
    "language_info": {
      "codemirror_mode": {
        "name": "ipython",
        "version": 3
      },
      "file_extension": ".py",
      "mimetype": "text/x-python",
      "name": "python",
      "nbconvert_exporter": "python",
      "pygments_lexer": "ipython3",
      "version": "3.9.12"
    },
    "colab": {
      "provenance": [],
      "collapsed_sections": [
        "087PjhBfridw"
      ]
    }
  },
  "nbformat": 4,
  "nbformat_minor": 0
}